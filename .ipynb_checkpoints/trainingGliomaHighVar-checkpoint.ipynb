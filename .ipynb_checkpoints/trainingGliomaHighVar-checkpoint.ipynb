{
 "cells": [
  {
   "cell_type": "code",
   "execution_count": 1,
   "metadata": {
    "collapsed": false,
    "deletable": true,
    "editable": true
   },
   "outputs": [
    {
     "name": "stderr",
     "output_type": "stream",
     "text": [
      "Using TensorFlow backend.\n"
     ]
    }
   ],
   "source": [
    "\n",
    "import matplotlib.pyplot as plt\n",
    "from sklearn import datasets, linear_model\n",
    "from sklearn.metrics import mean_squared_error, r2_score\n",
    "\n",
    "import os\n",
    "import numpy as np\n",
    "import pandas as pd\n",
    "import tensorflow as tf\n",
    "import keras\n",
    "\n",
    "# fix random seed for reproducibility\n",
    "np.random.seed(42)"
   ]
  },
  {
   "cell_type": "code",
   "execution_count": 3,
   "metadata": {
    "collapsed": false,
    "deletable": true,
    "editable": true
   },
   "outputs": [
    {
     "name": "stdout",
     "output_type": "stream",
     "text": [
      "CPU times: user 1.49 s, sys: 596 ms, total: 2.08 s\n",
      "Wall time: 2.08 s\n"
     ]
    }
   ],
   "source": [
    "%%time\n",
    "# Load training set\n",
    "X_glio = pd.read_csv(\"data/glioblastomaExpression14kgenes.csv\",header = 0,index_col=0)\n",
    "Y_glio = pd.read_csv(\"data/glioblastomaLabels.csv\",header = 0,index_col=0)"
   ]
  },
  {
   "cell_type": "code",
   "execution_count": 59,
   "metadata": {
    "collapsed": false,
    "deletable": true,
    "editable": true
   },
   "outputs": [],
   "source": [
    "# Convert rna prep method into numerical values for training\n",
    "from sklearn.preprocessing import LabelEncoder\n",
    "encoder = LabelEncoder()\n",
    "Y_glio[\"tr_method_value\"] = pd.Series(encoder.fit_transform(Y_glio[\"tr_method\"]), index=Y_glio.index)"
   ]
  },
  {
   "cell_type": "code",
   "execution_count": 60,
   "metadata": {
    "collapsed": false,
    "deletable": true,
    "editable": true
   },
   "outputs": [],
   "source": [
    "y_glio = np.array((Y_glio[\"tr_method\"]=='RiboMinus').astype(np.int)) # 1 if RiboMinus, else 0"
   ]
  },
  {
   "cell_type": "markdown",
   "metadata": {
    "deletable": true,
    "editable": true
   },
   "source": [
    "# Predict with Logistic Regression\n",
    "- Fit Logistic Regression model on glioma samples\n",
    "- predict with sklearn using ALL labels and features (281 samples)\n",
    "- see results<br>\n",
    "\n"
   ]
  },
  {
   "cell_type": "code",
   "execution_count": 61,
   "metadata": {
    "collapsed": false,
    "deletable": true,
    "editable": true
   },
   "outputs": [
    {
     "data": {
      "text/plain": [
       "(233, 3)"
      ]
     },
     "execution_count": 61,
     "metadata": {},
     "output_type": "execute_result"
    }
   ],
   "source": [
    "Y_glio.shape"
   ]
  },
  {
   "cell_type": "code",
   "execution_count": 62,
   "metadata": {
    "collapsed": false,
    "deletable": true,
    "editable": true
   },
   "outputs": [
    {
     "data": {
      "text/plain": [
       "(14645, 233)"
      ]
     },
     "execution_count": 62,
     "metadata": {},
     "output_type": "execute_result"
    }
   ],
   "source": [
    "X_glio.shape"
   ]
  },
  {
   "cell_type": "code",
   "execution_count": 63,
   "metadata": {
    "collapsed": false,
    "deletable": true,
    "editable": true
   },
   "outputs": [
    {
     "data": {
      "text/plain": [
       "LogisticRegression(C=1.0, class_weight=None, dual=False, fit_intercept=True,\n",
       "          intercept_scaling=1, max_iter=100, multi_class='ovr', n_jobs=1,\n",
       "          penalty='l2', random_state=None, solver='liblinear', tol=0.0001,\n",
       "          verbose=0, warm_start=False)"
      ]
     },
     "execution_count": 63,
     "metadata": {},
     "output_type": "execute_result"
    }
   ],
   "source": [
    "from sklearn.linear_model import LogisticRegression\n",
    "\n",
    "log_reg = LogisticRegression()\n",
    "log_reg.fit(X_glio.T, y_glio)"
   ]
  },
  {
   "cell_type": "code",
   "execution_count": 64,
   "metadata": {
    "collapsed": false,
    "deletable": true,
    "editable": true
   },
   "outputs": [],
   "source": [
    "# Load test set\n",
    "X_test = pd.read_csv(\"data/ALLeukemiaExpressionVar.csv\",header=0,index_col=0)\n",
    "Y_test = pd.read_csv(\"data/ALLeukemiaLabels.csv\",header=0,index_col=0)"
   ]
  },
  {
   "cell_type": "markdown",
   "metadata": {
    "deletable": true,
    "editable": true
   },
   "source": [
    "# Accuracy of Logistic Regression\n",
    "- RiboD = 1, PolyA = 0\n",
    "- present total accuracy over new test data (single disease=ALL)\n",
    "- present riboD accuracy\n",
    "- present polyA accuracy"
   ]
  },
  {
   "cell_type": "markdown",
   "metadata": {
    "deletable": true,
    "editable": true
   },
   "source": [
    "### Logistic Regression is 5%-85% accurate in general with test set"
   ]
  },
  {
   "cell_type": "code",
   "execution_count": 67,
   "metadata": {
    "collapsed": false,
    "deletable": true,
    "editable": true
   },
   "outputs": [
    {
     "name": "stdout",
     "output_type": "stream",
     "text": [
      "new prediction on ALL: 1\n",
      "Coefficients: \n",
      " [[-0.00418181 -0.00122375  0.00012804 ...  0.00028804 -0.00077866\n",
      "   0.00059957]] \n",
      "length of Coefficients: \n",
      " 14645\n",
      "Mean squared error: 0.94\n",
      "Variance score (1 is perfect prediction): -16.50\n",
      "\n",
      "\n",
      "Accuracy: 0.060498220640569395\n",
      "PolyA correct: 0.0037735849056603774\n",
      "RiboD correct: 1.0\n",
      "\n",
      "\n",
      "\n",
      "new prediction on ALL: 2\n",
      "Coefficients: \n",
      " [[-0.00418181 -0.00122375  0.00012804 ...  0.00028804 -0.00077866\n",
      "   0.00059957]] \n",
      "length of Coefficients: \n",
      " 14645\n",
      "Mean squared error: 0.35\n",
      "Variance score (1 is perfect prediction): -5.49\n",
      "\n",
      "\n",
      "Accuracy: 0.6512455516014235\n",
      "PolyA correct: 0.6339622641509434\n",
      "RiboD correct: 0.9375\n",
      "\n",
      "\n",
      "\n",
      "new prediction on ALL: 3\n",
      "Coefficients: \n",
      " [[-0.00418181 -0.00122375  0.00012804 ...  0.00028804 -0.00077866\n",
      "   0.00059957]] \n",
      "length of Coefficients: \n",
      " 14645\n",
      "Mean squared error: 0.93\n",
      "Variance score (1 is perfect prediction): -16.23\n",
      "\n",
      "\n",
      "Accuracy: 0.07473309608540925\n",
      "PolyA correct: 0.018867924528301886\n",
      "RiboD correct: 1.0\n",
      "\n",
      "\n",
      "\n"
     ]
    }
   ],
   "source": [
    "for a in range(3):\n",
    "    print('new prediction on ALL:', a+1)\n",
    "    # Randomize test set\n",
    "    X_testRand = X_test.sample(frac=1)\n",
    "    Y_testRandLong = Y_test.T[['tr_method','disease']].reindex(X_testRand.T.index)\n",
    "    y_testRand = np.array((Y_testRandLong[\"tr_method\"]=='RiboMinus').astype(np.int)) # 1 if RiboMinus, else 0\n",
    "    Y_testRandWide = Y_testRandLong.T\n",
    "    # Predict riboD or polyA from test set\n",
    "    log_reg_predict = log_reg.predict(X_testRand.T)\n",
    "\n",
    "#     # The coefficients\n",
    "    print('Coefficients: \\n', log_reg.coef_, '\\nlength of Coefficients: \\n',len(log_reg.coef_[0]))\n",
    "#     # The mean squared error\n",
    "    print(\"Mean squared error: %.2f\"\n",
    "          % mean_squared_error(y_testRand, log_reg_predict))\n",
    "#     # Explained variance score: 1 is perfect prediction\n",
    "    print('Variance score (1 is perfect prediction): %.2f' % r2_score(y_testRand, log_reg_predict))\n",
    "\n",
    "    truthTest = []\n",
    "    for i in range(len(log_reg_predict)):\n",
    "        truthTest.append(log_reg_predict[i]==y_testRand[i])\n",
    "    print('\\n\\nAccuracy:',truthTest.count(True)/len(truthTest))\n",
    "    truthTable = pd.DataFrame(list(zip(Y_testRandWide,y_testRand,log_reg_predict,truthTest)),\\\n",
    "                 columns=['th_sampleid','truth','prediction','predictionIsCorrect'])\n",
    "    truthTable.groupby('predictionIsCorrect').size()\n",
    "    print('PolyA correct:',list(truthTable[truthTable['truth']==0]['predictionIsCorrect']).count(True)/len(truthTable[truthTable['truth']==0]))   \n",
    "    print('RiboD correct:',list(truthTable[truthTable['truth']==1]['predictionIsCorrect']).count(True)/len(truthTable[truthTable['truth']==1]))\n",
    "    print('\\n\\n')"
   ]
  },
  {
   "cell_type": "markdown",
   "metadata": {
    "deletable": true,
    "editable": true
   },
   "source": [
    "## Predicted low and high accuracy\n",
    "- This is just trained on the glioblastoma samples and tested on only the ALL samples.\n",
    "- Since the only thing changing between predictions is the order of ALL samples, the logistic regression model is predicting the order of the samples rather than the expression values itself. \n",
    "\n",
    "- Fit whole compendium labels and features without ALL\n",
    "- predict with sklearn using ALL labels and features (281 samples)\n",
    "- see trainingCompendium notebook"
   ]
  }
 ],
 "metadata": {
  "kernelspec": {
   "display_name": "Python 3",
   "language": "python",
   "name": "python3"
  },
  "language_info": {
   "codemirror_mode": {
    "name": "ipython",
    "version": 3
   },
   "file_extension": ".py",
   "mimetype": "text/x-python",
   "name": "python",
   "nbconvert_exporter": "python",
   "pygments_lexer": "ipython3",
   "version": "3.5.2"
  }
 },
 "nbformat": 4,
 "nbformat_minor": 2
}

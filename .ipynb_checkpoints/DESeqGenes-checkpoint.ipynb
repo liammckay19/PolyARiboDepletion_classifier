{
 "cells": [
  {
   "cell_type": "markdown",
   "metadata": {
    "deletable": true,
    "editable": true
   },
   "source": [
    "### Requirements for DESeq"
   ]
  },
  {
   "cell_type": "markdown",
   "metadata": {
    "deletable": true,
    "editable": true
   },
   "source": [
    "\"The count values must be raw counts of sequencing reads. This is important for DESeq’s statistical model to hold,\n",
    "as only the actual counts allow assessing the measurement precision correctly. Hence, please do do not supply other\n",
    "quantities, such as (rounded) normalized counts, or counts of covered base pairs – this will only lead to nonsensical\n",
    "results.\" https://bioconductor.org/packages/release/bioc/vignettes/DESeq/inst/doc/DESeq.pdf"
   ]
  },
  {
   "cell_type": "markdown",
   "metadata": {
    "deletable": true,
    "editable": true
   },
   "source": [
    "Use this command to install DESeq2"
   ]
  },
  {
   "cell_type": "code",
   "execution_count": 40,
   "metadata": {
    "collapsed": false,
    "deletable": true,
    "editable": true
   },
   "outputs": [
    {
     "name": "stderr",
     "output_type": "stream",
     "text": [
      "Bioconductor version 3.4 (BiocInstaller 1.24.0), ?biocLite for help\n",
      "A new version of Bioconductor is available after installing the most recent\n",
      "  version of R; see http://bioconductor.org/install\n"
     ]
    }
   ],
   "source": [
    "## try http:// if https:// URLs are not supported\n",
    "source(\"https://bioconductor.org/biocLite.R\")\n",
    "suppressMessages(biocLite(\"DESeq2\"))\n",
    "suppressMessages(biocLite(\"SummarizedExperiment\"))\n",
    "suppressMessages(library(\"DESeq2\"))"
   ]
  },
  {
   "cell_type": "markdown",
   "metadata": {
    "deletable": true,
    "editable": true
   },
   "source": [
    "# Differential Expression\n",
    "- Load in compendium features as read count\n",
    "    - Use ids from compendium features of normalized TPM\n",
    "- caculate using DESeq library\n",
    "- output new train and test features in log2(TPM+1) with differential expressed genes "
   ]
  },
  {
   "cell_type": "markdown",
   "metadata": {
    "deletable": true,
    "editable": true
   },
   "source": [
    "# Load in compendium Features as TPM for IDs"
   ]
  },
  {
   "cell_type": "code",
   "execution_count": 1,
   "metadata": {
    "collapsed": false,
    "deletable": true,
    "editable": true
   },
   "outputs": [
    {
     "name": "stderr",
     "output_type": "stream",
     "text": [
      "Loading tidyverse: ggplot2\n",
      "Loading tidyverse: tibble\n",
      "Loading tidyverse: tidyr\n",
      "Loading tidyverse: readr\n",
      "Loading tidyverse: purrr\n",
      "Loading tidyverse: dplyr\n",
      "Conflicts with tidy packages ---------------------------------------------------\n",
      "filter(): dplyr, stats\n",
      "lag():    dplyr, stats\n"
     ]
    }
   ],
   "source": [
    "library('tidyverse')\n",
    "library('stringr')\n",
    "suppressMessages(library(\"DESeq2\"))"
   ]
  },
  {
   "cell_type": "markdown",
   "metadata": {
    "deletable": true,
    "editable": true
   },
   "source": [
    "Load in data, get ids in compendium"
   ]
  },
  {
   "cell_type": "markdown",
   "metadata": {
    "deletable": true,
    "editable": true
   },
   "source": [
    "Found diseases with at least one of both methods in cohortdiseasetissue\n",
    "- ['acute lymphoblastic leukemia', 'acute myeloid leukemia', 'sarcoma', 'neuroblastoma', 'diffuse large B-cell lymphoma', 'glioblastoma multiforme', 'wilms tumor', 'fibrolamellar hepatocellular carcinoma', 'atypical teratoid/rhabdoid tumor', 'lymphoma', 'ependymoma']"
   ]
  },
  {
   "cell_type": "code",
   "execution_count": 15,
   "metadata": {
    "collapsed": false,
    "deletable": true,
    "editable": true
   },
   "outputs": [],
   "source": [
    "diseases<- c('acute lymphoblastic leukemia', 'acute myeloid leukemia', 'sarcoma', 'neuroblastoma', 'diffuse large B-cell lymphoma', 'glioblastoma multiforme', 'wilms tumor', 'fibrolamellar hepatocellular carcinoma', 'atypical teratoid/rhabdoid tumor', 'lymphoma', 'ependymoma')"
   ]
  },
  {
   "cell_type": "markdown",
   "metadata": {
    "deletable": true,
    "editable": true
   },
   "source": [
    "Make labels only use these diseases"
   ]
  },
  {
   "cell_type": "code",
   "execution_count": 26,
   "metadata": {
    "collapsed": false,
    "deletable": true,
    "editable": true
   },
   "outputs": [],
   "source": [
    "labels<-labels %>% filter(disease %in% diseases)"
   ]
  },
  {
   "cell_type": "code",
   "execution_count": 27,
   "metadata": {
    "collapsed": false,
    "deletable": true,
    "editable": true
   },
   "outputs": [],
   "source": [
    "compLabels <- read.csv(\"compendiumLabels.tsv\", sep='\\t')\n",
    "\n",
    "labels <- compLabels\n",
    "\n",
    "riboDGlio<-labels %>% filter(labels$tr_method == 'RiboMinus')\n",
    "riboDth_ids <- riboDGlio$th_sampleid\n",
    "polyAGlio<-labels %>% filter(labels$tr_method == 'PolyA')\n",
    "polyAth_ids <- polyAGlio$th_sampleid\n",
    "\n",
    "th_ids <- labels$th_sampleid"
   ]
  },
  {
   "cell_type": "markdown",
   "metadata": {
    "deletable": true,
    "editable": true
   },
   "source": [
    "Find files for read count"
   ]
  },
  {
   "cell_type": "code",
   "execution_count": 28,
   "metadata": {
    "collapsed": false,
    "deletable": true,
    "editable": true
   },
   "outputs": [],
   "source": [
    "compendiumTPM <- dir(path = \"/data/archive/downstream\", pattern = 'rsem_genes.results', all.files = TRUE,\n",
    "           full.names = TRUE, recursive = TRUE,\n",
    "           ignore.case = FALSE, include.dirs = TRUE, no.. = TRUE)\n",
    "\n",
    "compendiumTPM_ids <- compendiumTPM %>% gsub('/data/archive/downstream/','',.) %>% gsub('/.*','',.)\n",
    "\n",
    "readcountIds <- intersect(compendiumTPM_ids,th_ids)\n",
    "\n",
    "# Create dataset of read count\n",
    "\n",
    "readcountIds<- readcountIds[order(readcountIds)]"
   ]
  },
  {
   "cell_type": "markdown",
   "metadata": {
    "deletable": true,
    "editable": true
   },
   "source": [
    "Read files"
   ]
  },
  {
   "cell_type": "code",
   "execution_count": 29,
   "metadata": {
    "collapsed": false,
    "deletable": true,
    "editable": true
   },
   "outputs": [
    {
     "name": "stdout",
     "output_type": "stream",
     "text": [
      "    user   system  elapsed \n",
      "2944.988   27.992 2975.234 \n"
     ]
    }
   ],
   "source": [
    "ptm <- proc.time()\n",
    "locationList <- c()\n",
    "tables<-c()\n",
    "riboDs <- data.frame(c(seq(1,60498)))\n",
    "polyAs <- data.frame(c(seq(1,60498)))\n",
    "for (id in readcountIds){\n",
    "    curdir <- dir(path = paste0(\"/data/archive/downstream/\",id), pattern = 'rsem_genes.results', all.files = TRUE,\n",
    "           full.names = TRUE, recursive = TRUE,\n",
    "           ignore.case = FALSE, include.dirs = TRUE, no.. = TRUE)\n",
    "    cur<-suppressMessages(read_tsv(curdir[length(curdir)]))\n",
    "    if(length(cur) != 0){\n",
    "        for (i in seq(1,length(riboDth_ids))){\n",
    "            if(id == riboDth_ids[i]){\n",
    "                riboDs[id]<-as.integer(round(cur$expected_count,0))\n",
    "            }\n",
    "        }\n",
    "        for (i in seq(1,length(polyAth_ids))){\n",
    "            if (id == polyAth_ids[i]){\n",
    "                polyAs[id] <-as.integer(round(cur$expected_count,0))\n",
    "            }\n",
    "        }\n",
    "    }\n",
    "}\n",
    "\n",
    "print(proc.time()-ptm)"
   ]
  },
  {
   "cell_type": "code",
   "execution_count": null,
   "metadata": {
    "collapsed": true,
    "deletable": true,
    "editable": true
   },
   "outputs": [],
   "source": [
    "write.csv(riboDs,'data/riboDs.csv')"
   ]
  },
  {
   "cell_type": "code",
   "execution_count": null,
   "metadata": {
    "collapsed": true,
    "deletable": true,
    "editable": true
   },
   "outputs": [],
   "source": [
    "write.csv(polyAs,'data/polyAs.csv')"
   ]
  },
  {
   "cell_type": "markdown",
   "metadata": {
    "deletable": true,
    "editable": true
   },
   "source": [
    "Rename the rows and columns to be untreated = riboD and treated = polyA\n"
   ]
  },
  {
   "cell_type": "code",
   "execution_count": 30,
   "metadata": {
    "collapsed": false,
    "deletable": true,
    "editable": true,
    "scrolled": true
   },
   "outputs": [],
   "source": [
    "polyAs <- cbind(gene_id=c(cur$gene_id), polyAs)\n",
    "riboDs <- cbind(gene_id=c(cur$gene_id), riboDs)\n",
    "\n",
    "\n",
    "\n",
    "names(riboDs) <- paste0('RiboMinus',names(riboDs))\n",
    "names(polyAs) <- paste0('PolyA',names(polyAs))\n",
    "names(riboDs)[1] <- 'gene_id'\n",
    "names(polyAs)[1] <- 'gene_id'"
   ]
  },
  {
   "cell_type": "markdown",
   "metadata": {
    "deletable": true,
    "editable": true
   },
   "source": [
    "Get all labels and treatment labelling in the same order, which is required by DESeq"
   ]
  },
  {
   "cell_type": "code",
   "execution_count": 31,
   "metadata": {
    "collapsed": false,
    "deletable": true,
    "editable": true
   },
   "outputs": [
    {
     "data": {
      "text/html": [
       "<ol class=list-inline>\n",
       "\t<li>60498</li>\n",
       "\t<li>940</li>\n",
       "</ol>\n"
      ],
      "text/latex": [
       "\\begin{enumerate*}\n",
       "\\item 60498\n",
       "\\item 940\n",
       "\\end{enumerate*}\n"
      ],
      "text/markdown": [
       "1. 60498\n",
       "2. 940\n",
       "\n",
       "\n"
      ],
      "text/plain": [
       "[1] 60498   940"
      ]
     },
     "metadata": {},
     "output_type": "display_data"
    },
    {
     "data": {
      "text/html": [
       "TRUE"
      ],
      "text/latex": [
       "TRUE"
      ],
      "text/markdown": [
       "TRUE"
      ],
      "text/plain": [
       "[1] TRUE"
      ]
     },
     "metadata": {},
     "output_type": "display_data"
    }
   ],
   "source": [
    "riboDs <- riboDs[, order(names(riboDs),decreasing=TRUE)]\n",
    "polyAs <- polyAs[, order(names(polyAs),decreasing=TRUE)]\n",
    "\n",
    "bothMethodsReadCount <- dplyr::inner_join(riboDs, polyAs, by=\"gene_id\")\n",
    "\n",
    "bothMethodsReadCount <- bothMethodsReadCount[, order(names(bothMethodsReadCount),decreasing=TRUE)]\n",
    "\n",
    "dim(bothMethodsReadCount[,-1])\n",
    "readCountLabels <- filter(labels, th_sampleid %in% readcountIds)\n",
    "\n",
    "readCountLabels <- readCountLabels %>% arrange(desc(th_sampleid)) \n",
    "\n",
    "rownames(readCountLabels) <- paste0(readCountLabels$tr_method,readCountLabels$th_sampleid)\n",
    "\n",
    "# rownames(readCountLabels) <- sub(\"RiboMinus\", \"untreated\",rownames(readCountLabels))\n",
    "# rownames(readCountLabels) <- sub(\"PolyA\", \"treated\",rownames(readCountLabels))\n",
    "\n",
    "bothMethodsReadCount <- bothMethodsReadCount[, rownames(readCountLabels)]\n",
    "\n",
    "rownames(bothMethodsReadCount) <- cur$gene_id\n",
    "\n",
    "all(rownames(readCountLabels) == colnames(bothMethodsReadCount))"
   ]
  },
  {
   "cell_type": "markdown",
   "metadata": {
    "deletable": true,
    "editable": true
   },
   "source": [
    "Create CountDataSet called dds"
   ]
  },
  {
   "cell_type": "code",
   "execution_count": 32,
   "metadata": {
    "collapsed": false,
    "deletable": true,
    "editable": true
   },
   "outputs": [],
   "source": [
    "dds <- DESeqDataSetFromMatrix(bothMethodsReadCount,\n",
    "                              colData = readCountLabels,\n",
    "                              design= ~ tr_method)"
   ]
  },
  {
   "cell_type": "code",
   "execution_count": 33,
   "metadata": {
    "collapsed": false,
    "deletable": true,
    "editable": true
   },
   "outputs": [
    {
     "data": {
      "text/plain": [
       "class: DESeqDataSet \n",
       "dim: 60498 938 \n",
       "metadata(1): version\n",
       "assays(1): counts\n",
       "rownames(60498): ENSG00000000003.14 ENSG00000000005.5 ...\n",
       "  ENSGR0000280767.2 ENSGR0000281849.2\n",
       "rowData names(0):\n",
       "colnames(938): PolyATHR31_0940_S01 PolyATHR31_0939_S01 ...\n",
       "  PolyATARGET-40-0A4HX8-01A-01R PolyATARGET-40-0A4HMC-01A-01R\n",
       "colData names(3): th_sampleid tr_method disease"
      ]
     },
     "metadata": {},
     "output_type": "display_data"
    }
   ],
   "source": [
    "dds"
   ]
  },
  {
   "cell_type": "markdown",
   "metadata": {
    "deletable": true,
    "editable": true
   },
   "source": [
    "# Prefiltering\n",
    "- removing rows in which there are very few reads, \n",
    "- we reduce the memory size of the dds data object, \n",
    "- and we increase the speed of the transformation and testing functions within DESeq2. \n",
    "\n",
    "<br>Here we perform a minimal pre-filtering to keep only rows that have at least 10 reads total."
   ]
  },
  {
   "cell_type": "code",
   "execution_count": 34,
   "metadata": {
    "collapsed": true,
    "deletable": true,
    "editable": true
   },
   "outputs": [],
   "source": [
    "keep <- rowSums(counts(dds)) >= 10\n",
    "dds <- dds[keep,]"
   ]
  },
  {
   "cell_type": "code",
   "execution_count": null,
   "metadata": {
    "collapsed": false,
    "deletable": true,
    "editable": true
   },
   "outputs": [
    {
     "name": "stderr",
     "output_type": "stream",
     "text": [
      "estimating size factors\n",
      "estimating dispersions\n",
      "gene-wise dispersion estimates\n"
     ]
    }
   ],
   "source": [
    "dds <- DESeq(dds)\n",
    "res <- results(dds)\n",
    "# res"
   ]
  },
  {
   "cell_type": "code",
   "execution_count": null,
   "metadata": {
    "collapsed": false,
    "deletable": true,
    "editable": true
   },
   "outputs": [],
   "source": [
    "resultsNames(dds)"
   ]
  },
  {
   "cell_type": "code",
   "execution_count": null,
   "metadata": {
    "collapsed": false,
    "deletable": true,
    "editable": true
   },
   "outputs": [],
   "source": [
    "library(\"BiocParallel\")\n",
    "register(MulticoreParam(4))"
   ]
  },
  {
   "cell_type": "code",
   "execution_count": null,
   "metadata": {
    "collapsed": true,
    "deletable": true,
    "editable": true
   },
   "outputs": [],
   "source": [
    "resOrdered <- res[order(res$pvalue),]\n"
   ]
  },
  {
   "cell_type": "code",
   "execution_count": null,
   "metadata": {
    "collapsed": false,
    "deletable": true,
    "editable": true
   },
   "outputs": [],
   "source": [
    "resOrdered"
   ]
  },
  {
   "cell_type": "code",
   "execution_count": null,
   "metadata": {
    "collapsed": false,
    "deletable": true,
    "editable": true
   },
   "outputs": [],
   "source": [
    "summary(res)"
   ]
  },
  {
   "cell_type": "code",
   "execution_count": null,
   "metadata": {
    "collapsed": true,
    "deletable": true,
    "editable": true
   },
   "outputs": [],
   "source": [
    "ddsMF <- dds\n",
    "levels(ddsMF$tr_method)\n"
   ]
  },
  {
   "cell_type": "code",
   "execution_count": null,
   "metadata": {
    "collapsed": true,
    "deletable": true,
    "editable": true
   },
   "outputs": [],
   "source": [
    "design(ddsMF) <- formula(~ tr_method + disease)\n",
    "ddsMF <- DESeq(ddsMF)"
   ]
  },
  {
   "cell_type": "code",
   "execution_count": null,
   "metadata": {
    "collapsed": true,
    "deletable": true,
    "editable": true
   },
   "outputs": [],
   "source": [
    "resMF <- results(ddsMF)\n",
    "head(resMF)"
   ]
  }
 ],
 "metadata": {
  "kernelspec": {
   "display_name": "R",
   "language": "R",
   "name": "ir"
  }
 },
 "nbformat": 4,
 "nbformat_minor": 2
}

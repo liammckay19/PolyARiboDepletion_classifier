{
 "cells": [
  {
   "cell_type": "code",
   "execution_count": 6,
   "metadata": {
    "collapsed": true,
    "deletable": true,
    "editable": true
   },
   "outputs": [],
   "source": [
    "import os, fnmatch\n",
    "import matplotlib.pyplot as plt\n",
    "import csv\n",
    "import numpy as np\n",
    "import pandas as pd\n",
    "import sys\n",
    "import json\n",
    "import glob\n"
   ]
  },
  {
   "cell_type": "markdown",
   "metadata": {
    "deletable": true,
    "editable": true
   },
   "source": [
    "# Labels\n",
    "Sources:\n",
    "- clinical.tsv\n",
    "- riboDepleted_samples_that_passedQC_and_have_known_diagnosis\n",
    "- TranscriptMethod_THPEDv1"
   ]
  },
  {
   "cell_type": "markdown",
   "metadata": {
    "deletable": true,
    "editable": true
   },
   "source": [
    "# Features\n",
    "Sources:\n",
    "- /data/archive/compendium/v5/v5_hugo_log2tpm.11340x58581.2018-02-03.hd5\n",
    "- /data/archive/downstream/*  [all sampleids possible]\n",
    "    - /secondary/ucsc_cgl-rnaseq-cgl-pipeline-0.0.0-0000000/RSEM/Hugo/\n",
    "        - rsem_genes.hugo.results"
   ]
  },
  {
   "cell_type": "markdown",
   "metadata": {
    "deletable": true,
    "editable": true
   },
   "source": [
    "# Gather Features\n",
    "1. read in compendium (log2(TPM+1))\n",
    "2. find more in downstream source (TPM) \n",
    "3. merge the two using the same gene name both in log2(TPM+1)"
   ]
  },
  {
   "cell_type": "code",
   "execution_count": 7,
   "metadata": {
    "collapsed": true,
    "deletable": true,
    "editable": true
   },
   "outputs": [],
   "source": [
    "compendium = pd.read_hdf(\"/data/archive/compendium/v5/v5_hugo_log2tpm.11340x58581.2018-02-03.hd5\")"
   ]
  },
  {
   "cell_type": "code",
   "execution_count": 8,
   "metadata": {
    "collapsed": false,
    "deletable": true,
    "editable": true
   },
   "outputs": [],
   "source": [
    "basepath=\"/data/archive/downstream/\"\n",
    "postidpath=\"/secondary/ucsc_cgl-rnaseq-cgl-pipeline-0.0.0-0000000/RSEM/Hugo/\"\n",
    "filename=\"rsem_genes.hugo.results\"\n",
    "hugoLogTpmPlusOneFilePathList = glob.glob(basepath + \"*\" + postidpath + filename)\n",
    "\n",
    "rawTPMExpression = pd.DataFrame()\n",
    "for filepath in hugoLogTpmPlusOneFilePathList:\n",
    "    curDf = pd.read_csv(filepath,sep='\\t')\n",
    "    rawTPMExpression[filepath[25:].partition('/')[0]]=curDf['TPM']\n"
   ]
  },
  {
   "cell_type": "code",
   "execution_count": 9,
   "metadata": {
    "collapsed": false,
    "deletable": true,
    "editable": true
   },
   "outputs": [
    {
     "name": "stdout",
     "output_type": "stream",
     "text": [
      "<class 'pandas.core.frame.DataFrame'>\n",
      "Index: 58581 entries, 5S_rRNA to yR211F11.2\n",
      "Columns: 11340 entries, THR15_0330_S01 to TCGA-DD-A115-01\n",
      "dtypes: float32(11340)\n",
      "memory usage: 2.5+ GB\n"
     ]
    }
   ],
   "source": [
    "compendium.info()"
   ]
  },
  {
   "cell_type": "markdown",
   "metadata": {
    "deletable": true,
    "editable": true
   },
   "source": [
    "### Multiple Ensemble IDs match to one HUGO gene name"
   ]
  },
  {
   "cell_type": "code",
   "execution_count": 10,
   "metadata": {
    "collapsed": false,
    "deletable": true,
    "editable": true
   },
   "outputs": [],
   "source": [
    "rawTPMExpression['gene_id'] = curDf['gene_name']\n"
   ]
  },
  {
   "cell_type": "code",
   "execution_count": 11,
   "metadata": {
    "collapsed": false,
    "deletable": true,
    "editable": true
   },
   "outputs": [],
   "source": [
    "rawTPMExpression.index = list(rawTPMExpression['gene_id'])\n"
   ]
  },
  {
   "cell_type": "code",
   "execution_count": 12,
   "metadata": {
    "collapsed": false,
    "deletable": true,
    "editable": true
   },
   "outputs": [
    {
     "name": "stdout",
     "output_type": "stream",
     "text": [
      "<class 'pandas.core.frame.DataFrame'>\n",
      "Index: 60448 entries, TSPAN6 to AC000035.3\n",
      "Columns: 817 entries, TH03_0159_S01 to gene_id\n",
      "dtypes: float64(816), object(1)\n",
      "memory usage: 377.2+ MB\n"
     ]
    }
   ],
   "source": [
    "rawTPMExpression.info()"
   ]
  },
  {
   "cell_type": "markdown",
   "metadata": {
    "deletable": true,
    "editable": true
   },
   "source": [
    "### Remove repeat genes and apply +1 and log2 to rawTPM"
   ]
  },
  {
   "cell_type": "code",
   "execution_count": 13,
   "metadata": {
    "collapsed": false,
    "deletable": true,
    "editable": true
   },
   "outputs": [
    {
     "name": "stdout",
     "output_type": "stream",
     "text": [
      "CPU times: user 4.63 s, sys: 2.44 s, total: 7.06 s\n",
      "Wall time: 6.51 s\n"
     ]
    }
   ],
   "source": [
    "%%time\n",
    "rawTPMExpressionShorter=rawTPMExpression.groupby(level=0).agg('mean').add(1).apply(np.log2)\n",
    "# rawTPMExpressionShorter.info()\n",
    "# <class 'pandas.core.frame.DataFrame'>\n",
    "# Index: 58581 entries, 5S_rRNA to yR211F11.2\n",
    "# Columns: 816 entries, TH03_0159_S01 to TH03_0118_S01\n",
    "# dtypes: float64(816)\n",
    "# memory usage: 365.1+ MB\n",
    "\n",
    "# compendium.info()\n",
    "# <class 'pandas.core.frame.DataFrame'>\n",
    "# Index: 58581 entries, 5S_rRNA to yR211F11.2\n",
    "# Columns: 11340 entries, THR15_0330_S01 to TCGA-DD-A115-01\n",
    "# dtypes: float32(11340)\n",
    "# memory usage: 2.5+ GB"
   ]
  },
  {
   "cell_type": "markdown",
   "metadata": {
    "deletable": true,
    "editable": true
   },
   "source": [
    "### Merge compendium with downstream data"
   ]
  },
  {
   "cell_type": "code",
   "execution_count": 14,
   "metadata": {
    "collapsed": false,
    "deletable": true,
    "editable": true
   },
   "outputs": [
    {
     "data": {
      "text/plain": [
       "Index(['TARGET-40-0A4HLD-01A-01R', 'TARGET-40-PAKUZU-01A-01R',\n",
       "       'TARGET-40-PAKXLD-01A-01R', 'TARGET-40-PALFYN-01A-01R',\n",
       "       'TARGET-40-PAMEKS-01A-01R', 'TARGET-40-PAPNVD-01A-01R',\n",
       "       'TARGET-40-PAPWWC-01A-01R', 'TARGET-40-PASKZZ-01A-01R',\n",
       "       'TARGET-40-PAUVUL-01A-01R', 'TARGET-40-PAUXPZ-01A-01R',\n",
       "       ...\n",
       "       'THR22_0597_S01', 'THR22_0598_S01', 'THR22_0605_S01', 'THR23_0606_S01',\n",
       "       'THR23_0607_S01', 'THR23_0608_S01', 'THR23_0609_S01', 'THR25_0636_S01',\n",
       "       'THR25_0641_S01', 'THR25_0642_S01'],\n",
       "      dtype='object', length=283)"
      ]
     },
     "execution_count": 14,
     "metadata": {},
     "output_type": "execute_result"
    }
   ],
   "source": [
    "cols_to_use = rawTPMExpressionShorter.columns.difference(compendium.columns)\n",
    "len(cols_to_use.tolist())\n",
    "cols_to_use"
   ]
  },
  {
   "cell_type": "code",
   "execution_count": 15,
   "metadata": {
    "collapsed": false,
    "deletable": true,
    "editable": true
   },
   "outputs": [
    {
     "name": "stdout",
     "output_type": "stream",
     "text": [
      "CPU times: user 1min 16s, sys: 10.4 s, total: 1min 27s\n",
      "Wall time: 1min 27s\n"
     ]
    }
   ],
   "source": [
    "%%time\n",
    "expressionTpmCompendium = pd.merge(rawTPMExpressionShorter[list(cols_to_use)], compendium, left_index = True, right_index = True)"
   ]
  },
  {
   "cell_type": "code",
   "execution_count": 16,
   "metadata": {
    "collapsed": false,
    "deletable": true,
    "editable": true
   },
   "outputs": [
    {
     "data": {
      "text/html": [
       "<div>\n",
       "<table border=\"1\" class=\"dataframe\">\n",
       "  <thead>\n",
       "    <tr style=\"text-align: right;\">\n",
       "      <th></th>\n",
       "      <th>TARGET-40-0A4HLD-01A-01R</th>\n",
       "      <th>TARGET-40-PAKUZU-01A-01R</th>\n",
       "      <th>TARGET-40-PAKXLD-01A-01R</th>\n",
       "      <th>TARGET-40-PALFYN-01A-01R</th>\n",
       "      <th>TARGET-40-PAMEKS-01A-01R</th>\n",
       "      <th>TARGET-40-PAPNVD-01A-01R</th>\n",
       "      <th>TARGET-40-PAPWWC-01A-01R</th>\n",
       "      <th>TARGET-40-PASKZZ-01A-01R</th>\n",
       "      <th>TARGET-40-PAUVUL-01A-01R</th>\n",
       "      <th>TARGET-40-PAUXPZ-01A-01R</th>\n",
       "      <th>...</th>\n",
       "      <th>TCGA-18-3414-01</th>\n",
       "      <th>TCGA-13-1481-01</th>\n",
       "      <th>TCGA-BP-4803-01</th>\n",
       "      <th>TCGA-A8-A09K-01</th>\n",
       "      <th>TCGA-61-1907-01</th>\n",
       "      <th>TCGA-IB-7885-01</th>\n",
       "      <th>TCGA-95-7947-01</th>\n",
       "      <th>TCGA-VQ-AA6F-01</th>\n",
       "      <th>TCGA-BR-8588-01</th>\n",
       "      <th>TCGA-DD-A115-01</th>\n",
       "    </tr>\n",
       "  </thead>\n",
       "  <tbody>\n",
       "    <tr>\n",
       "      <th>5S_rRNA</th>\n",
       "      <td>0.000000</td>\n",
       "      <td>0.000000</td>\n",
       "      <td>0.000000</td>\n",
       "      <td>0.000000</td>\n",
       "      <td>0.000000</td>\n",
       "      <td>0.000000</td>\n",
       "      <td>0.000000</td>\n",
       "      <td>0.000000</td>\n",
       "      <td>0.000000</td>\n",
       "      <td>0.000000</td>\n",
       "      <td>...</td>\n",
       "      <td>0.000000</td>\n",
       "      <td>0.000000</td>\n",
       "      <td>0.000000</td>\n",
       "      <td>0.000000</td>\n",
       "      <td>0.000000</td>\n",
       "      <td>0.000000</td>\n",
       "      <td>0.000000</td>\n",
       "      <td>0.000000</td>\n",
       "      <td>0.000000</td>\n",
       "      <td>0.000000</td>\n",
       "    </tr>\n",
       "    <tr>\n",
       "      <th>5_8S_rRNA</th>\n",
       "      <td>0.000000</td>\n",
       "      <td>0.000000</td>\n",
       "      <td>0.000000</td>\n",
       "      <td>0.000000</td>\n",
       "      <td>0.000000</td>\n",
       "      <td>0.000000</td>\n",
       "      <td>0.000000</td>\n",
       "      <td>0.000000</td>\n",
       "      <td>0.000000</td>\n",
       "      <td>0.000000</td>\n",
       "      <td>...</td>\n",
       "      <td>0.000000</td>\n",
       "      <td>0.000000</td>\n",
       "      <td>0.000000</td>\n",
       "      <td>0.000000</td>\n",
       "      <td>0.000000</td>\n",
       "      <td>0.000000</td>\n",
       "      <td>0.000000</td>\n",
       "      <td>0.000000</td>\n",
       "      <td>0.000000</td>\n",
       "      <td>0.000000</td>\n",
       "    </tr>\n",
       "    <tr>\n",
       "      <th>7SK</th>\n",
       "      <td>0.000000</td>\n",
       "      <td>0.000000</td>\n",
       "      <td>0.000000</td>\n",
       "      <td>0.135316</td>\n",
       "      <td>0.000000</td>\n",
       "      <td>0.000000</td>\n",
       "      <td>0.000000</td>\n",
       "      <td>0.000000</td>\n",
       "      <td>0.000000</td>\n",
       "      <td>0.000000</td>\n",
       "      <td>...</td>\n",
       "      <td>0.000000</td>\n",
       "      <td>0.021551</td>\n",
       "      <td>0.000000</td>\n",
       "      <td>0.000000</td>\n",
       "      <td>0.000000</td>\n",
       "      <td>0.038016</td>\n",
       "      <td>0.042669</td>\n",
       "      <td>0.016758</td>\n",
       "      <td>0.000000</td>\n",
       "      <td>0.000000</td>\n",
       "    </tr>\n",
       "    <tr>\n",
       "      <th>A1BG</th>\n",
       "      <td>5.782671</td>\n",
       "      <td>6.661778</td>\n",
       "      <td>4.725741</td>\n",
       "      <td>2.641546</td>\n",
       "      <td>4.685940</td>\n",
       "      <td>4.319762</td>\n",
       "      <td>5.801159</td>\n",
       "      <td>1.304511</td>\n",
       "      <td>3.534809</td>\n",
       "      <td>5.135863</td>\n",
       "      <td>...</td>\n",
       "      <td>3.323396</td>\n",
       "      <td>4.452866</td>\n",
       "      <td>2.424979</td>\n",
       "      <td>4.679187</td>\n",
       "      <td>5.000447</td>\n",
       "      <td>3.129315</td>\n",
       "      <td>2.666772</td>\n",
       "      <td>1.526119</td>\n",
       "      <td>1.646188</td>\n",
       "      <td>9.799418</td>\n",
       "    </tr>\n",
       "    <tr>\n",
       "      <th>A1BG-AS1</th>\n",
       "      <td>1.104337</td>\n",
       "      <td>2.693766</td>\n",
       "      <td>2.827819</td>\n",
       "      <td>0.978196</td>\n",
       "      <td>2.835924</td>\n",
       "      <td>2.548437</td>\n",
       "      <td>3.824768</td>\n",
       "      <td>0.941106</td>\n",
       "      <td>0.250962</td>\n",
       "      <td>0.713696</td>\n",
       "      <td>...</td>\n",
       "      <td>1.014435</td>\n",
       "      <td>1.682619</td>\n",
       "      <td>1.070450</td>\n",
       "      <td>3.106042</td>\n",
       "      <td>1.659971</td>\n",
       "      <td>1.310415</td>\n",
       "      <td>1.400608</td>\n",
       "      <td>0.739941</td>\n",
       "      <td>0.918464</td>\n",
       "      <td>0.739941</td>\n",
       "    </tr>\n",
       "  </tbody>\n",
       "</table>\n",
       "<p>5 rows × 11623 columns</p>\n",
       "</div>"
      ],
      "text/plain": [
       "           TARGET-40-0A4HLD-01A-01R  TARGET-40-PAKUZU-01A-01R  \\\n",
       "5S_rRNA                    0.000000                  0.000000   \n",
       "5_8S_rRNA                  0.000000                  0.000000   \n",
       "7SK                        0.000000                  0.000000   \n",
       "A1BG                       5.782671                  6.661778   \n",
       "A1BG-AS1                   1.104337                  2.693766   \n",
       "\n",
       "           TARGET-40-PAKXLD-01A-01R  TARGET-40-PALFYN-01A-01R  \\\n",
       "5S_rRNA                    0.000000                  0.000000   \n",
       "5_8S_rRNA                  0.000000                  0.000000   \n",
       "7SK                        0.000000                  0.135316   \n",
       "A1BG                       4.725741                  2.641546   \n",
       "A1BG-AS1                   2.827819                  0.978196   \n",
       "\n",
       "           TARGET-40-PAMEKS-01A-01R  TARGET-40-PAPNVD-01A-01R  \\\n",
       "5S_rRNA                    0.000000                  0.000000   \n",
       "5_8S_rRNA                  0.000000                  0.000000   \n",
       "7SK                        0.000000                  0.000000   \n",
       "A1BG                       4.685940                  4.319762   \n",
       "A1BG-AS1                   2.835924                  2.548437   \n",
       "\n",
       "           TARGET-40-PAPWWC-01A-01R  TARGET-40-PASKZZ-01A-01R  \\\n",
       "5S_rRNA                    0.000000                  0.000000   \n",
       "5_8S_rRNA                  0.000000                  0.000000   \n",
       "7SK                        0.000000                  0.000000   \n",
       "A1BG                       5.801159                  1.304511   \n",
       "A1BG-AS1                   3.824768                  0.941106   \n",
       "\n",
       "           TARGET-40-PAUVUL-01A-01R  TARGET-40-PAUXPZ-01A-01R  \\\n",
       "5S_rRNA                    0.000000                  0.000000   \n",
       "5_8S_rRNA                  0.000000                  0.000000   \n",
       "7SK                        0.000000                  0.000000   \n",
       "A1BG                       3.534809                  5.135863   \n",
       "A1BG-AS1                   0.250962                  0.713696   \n",
       "\n",
       "                ...         TCGA-18-3414-01  TCGA-13-1481-01  TCGA-BP-4803-01  \\\n",
       "5S_rRNA         ...                0.000000         0.000000         0.000000   \n",
       "5_8S_rRNA       ...                0.000000         0.000000         0.000000   \n",
       "7SK             ...                0.000000         0.021551         0.000000   \n",
       "A1BG            ...                3.323396         4.452866         2.424979   \n",
       "A1BG-AS1        ...                1.014435         1.682619         1.070450   \n",
       "\n",
       "           TCGA-A8-A09K-01  TCGA-61-1907-01  TCGA-IB-7885-01  TCGA-95-7947-01  \\\n",
       "5S_rRNA           0.000000         0.000000         0.000000         0.000000   \n",
       "5_8S_rRNA         0.000000         0.000000         0.000000         0.000000   \n",
       "7SK               0.000000         0.000000         0.038016         0.042669   \n",
       "A1BG              4.679187         5.000447         3.129315         2.666772   \n",
       "A1BG-AS1          3.106042         1.659971         1.310415         1.400608   \n",
       "\n",
       "           TCGA-VQ-AA6F-01  TCGA-BR-8588-01  TCGA-DD-A115-01  \n",
       "5S_rRNA           0.000000         0.000000         0.000000  \n",
       "5_8S_rRNA         0.000000         0.000000         0.000000  \n",
       "7SK               0.016758         0.000000         0.000000  \n",
       "A1BG              1.526119         1.646188         9.799418  \n",
       "A1BG-AS1          0.739941         0.918464         0.739941  \n",
       "\n",
       "[5 rows x 11623 columns]"
      ]
     },
     "execution_count": 16,
     "metadata": {},
     "output_type": "execute_result"
    }
   ],
   "source": [
    "expressionTpmCompendium.head()"
   ]
  },
  {
   "cell_type": "markdown",
   "metadata": {
    "deletable": true,
    "editable": true
   },
   "source": [
    "# Gather Labels\n",
    "1. read clinical.tsv (no riboD, so all polyA)\n",
    "2. read riboDepleted_samples_that_passedQC_and_have_known_diagnosis (all riboD)\n",
    "3. read TranscriptMethod_THPEDv1 (compendium both polyA and riboD)\n",
    "4. merge all three and remove repeats"
   ]
  },
  {
   "cell_type": "code",
   "execution_count": 17,
   "metadata": {
    "collapsed": false,
    "deletable": true,
    "editable": true
   },
   "outputs": [],
   "source": [
    "clinicalLabels = pd.read_csv(\"/data/archive/compendium/v5/clinical.tsv\",sep='\\t')\n",
    "clinicalLabels['tr_method']='PolyA'\n",
    "ribodDiagnosis = pd.read_csv(\"riboDepleted_samples_that_passedQC_and_have_known_diagnosis.tsv\", sep='\\t')\n",
    "\n",
    "ribodDiagnosis=ribodDiagnosis.rename(columns={'Treehouse SAMPLE identifier':'th_sampleid','Diagnosis/Disease':'disease'})\n",
    "\n",
    "ribodDiagnosis['tr_method']='RiboMinus'\n",
    "methods = pd.read_csv(\"TranscriptMethod_THPEDv1.csv\")\n",
    "\n",
    "methods = methods.rename(columns={'Treehouse SAMPLE identifier':'th_sampleid','TR_method':'tr_method'})\n",
    "\n",
    "clinicalIdTissue = clinicalLabels[['th_sampleid','anat_sample','disease','tr_method']] \n",
    "df = pd.merge(clinicalIdTissue, ribodDiagnosis, how='outer')\n",
    "df = pd.merge(df,methods,how='outer')\n",
    "df = df[['th_sampleid','tr_method','disease']]\n",
    "# PolyA                11350\n",
    "# RiboMinus              179\n",
    "# suspect RiboMinus        9\n",
    "\n",
    "compendium_id_method_disease_labels = df.dropna()\n",
    "# PolyA        11340\n",
    "# RiboMinus      165"
   ]
  },
  {
   "cell_type": "code",
   "execution_count": 18,
   "metadata": {
    "collapsed": false,
    "deletable": true,
    "editable": true
   },
   "outputs": [
    {
     "data": {
      "text/html": [
       "<div>\n",
       "<table border=\"1\" class=\"dataframe\">\n",
       "  <thead>\n",
       "    <tr style=\"text-align: right;\">\n",
       "      <th></th>\n",
       "      <th>th_sampleid</th>\n",
       "      <th>tr_method</th>\n",
       "      <th>disease</th>\n",
       "    </tr>\n",
       "  </thead>\n",
       "  <tbody>\n",
       "    <tr>\n",
       "      <th>0</th>\n",
       "      <td>TH03_0010_S01</td>\n",
       "      <td>PolyA</td>\n",
       "      <td>acute leukemia of ambiguous lineage</td>\n",
       "    </tr>\n",
       "    <tr>\n",
       "      <th>1</th>\n",
       "      <td>TH03_0010_S02</td>\n",
       "      <td>PolyA</td>\n",
       "      <td>acute leukemia of ambiguous lineage</td>\n",
       "    </tr>\n",
       "    <tr>\n",
       "      <th>2</th>\n",
       "      <td>TH03_0103_S01</td>\n",
       "      <td>PolyA</td>\n",
       "      <td>rhabdomyosarcoma</td>\n",
       "    </tr>\n",
       "    <tr>\n",
       "      <th>3</th>\n",
       "      <td>TH03_0104_S01</td>\n",
       "      <td>PolyA</td>\n",
       "      <td>hepatoblastoma</td>\n",
       "    </tr>\n",
       "    <tr>\n",
       "      <th>4</th>\n",
       "      <td>TH03_0105_S01</td>\n",
       "      <td>PolyA</td>\n",
       "      <td>rhabdomyosarcoma</td>\n",
       "    </tr>\n",
       "  </tbody>\n",
       "</table>\n",
       "</div>"
      ],
      "text/plain": [
       "     th_sampleid tr_method                              disease\n",
       "0  TH03_0010_S01     PolyA  acute leukemia of ambiguous lineage\n",
       "1  TH03_0010_S02     PolyA  acute leukemia of ambiguous lineage\n",
       "2  TH03_0103_S01     PolyA                     rhabdomyosarcoma\n",
       "3  TH03_0104_S01     PolyA                       hepatoblastoma\n",
       "4  TH03_0105_S01     PolyA                     rhabdomyosarcoma"
      ]
     },
     "execution_count": 18,
     "metadata": {},
     "output_type": "execute_result"
    }
   ],
   "source": [
    "compendium_id_method_disease_labels.head()"
   ]
  },
  {
   "cell_type": "markdown",
   "metadata": {
    "deletable": true,
    "editable": true
   },
   "source": [
    "# 11454 features intersect labels total\n",
    "- **160 features intersect labels that are RiboMinus**\n",
    "- 11340 features intersect labels that are PolyA"
   ]
  },
  {
   "cell_type": "code",
   "execution_count": 19,
   "metadata": {
    "collapsed": false,
    "deletable": true,
    "editable": true
   },
   "outputs": [
    {
     "data": {
      "text/plain": [
       "11454"
      ]
     },
     "execution_count": 19,
     "metadata": {},
     "output_type": "execute_result"
    }
   ],
   "source": [
    "len(set(list(compendium_id_method_disease_labels['th_sampleid']))&set(expressionTpmCompendium.keys()))"
   ]
  },
  {
   "cell_type": "code",
   "execution_count": 20,
   "metadata": {
    "collapsed": false,
    "deletable": true,
    "editable": true,
    "scrolled": true
   },
   "outputs": [
    {
     "data": {
      "text/plain": [
       "160"
      ]
     },
     "execution_count": 20,
     "metadata": {},
     "output_type": "execute_result"
    }
   ],
   "source": [
    "labelsRiboD=compendium_id_method_disease_labels[compendium_id_method_disease_labels['tr_method']=='RiboMinus']['th_sampleid']\n",
    "len(set(labelsRiboD)&set(expressionTpmCompendium.keys()))"
   ]
  },
  {
   "cell_type": "code",
   "execution_count": 21,
   "metadata": {
    "collapsed": false,
    "deletable": true,
    "editable": true
   },
   "outputs": [
    {
     "data": {
      "text/plain": [
       "11340"
      ]
     },
     "execution_count": 21,
     "metadata": {},
     "output_type": "execute_result"
    }
   ],
   "source": [
    "labelsRiboD=compendium_id_method_disease_labels[compendium_id_method_disease_labels['tr_method']=='PolyA']['th_sampleid']\n",
    "len(set(labelsRiboD)&set(expressionTpmCompendium.keys()))"
   ]
  },
  {
   "cell_type": "markdown",
   "metadata": {
    "deletable": true,
    "editable": true
   },
   "source": [
    "# Make labels and features intersect ids\n",
    "1. find all columns that are intersecting in both\n",
    "2. create features from compatible columns\n",
    "3. remove duplicates from labels \n",
    "4. transpose label list to access ids as columns\n",
    "5. create labels from compatible columns"
   ]
  },
  {
   "cell_type": "code",
   "execution_count": 22,
   "metadata": {
    "collapsed": false,
    "deletable": true,
    "editable": true
   },
   "outputs": [],
   "source": [
    "allColumns = set(compendium_id_method_disease_labels['th_sampleid'])|set(expressionTpmCompendium.keys())\n",
    "columnsNotInLabels = allColumns^set(compendium_id_method_disease_labels['th_sampleid'])\n",
    "columnsNotInFeatures = allColumns^set(expressionTpmCompendium.keys())\n",
    "allNonCompatibleColumns = columnsNotInFeatures^columnsNotInLabels\n",
    "allCompatibleColumns = allColumns-allNonCompatibleColumns"
   ]
  },
  {
   "cell_type": "code",
   "execution_count": 23,
   "metadata": {
    "collapsed": false,
    "deletable": true,
    "editable": true
   },
   "outputs": [
    {
     "name": "stdout",
     "output_type": "stream",
     "text": [
      "<class 'pandas.core.frame.DataFrame'>\n",
      "Index: 58581 entries, 5S_rRNA to yR211F11.2\n",
      "Columns: 11454 entries, TCGA-D3-A2J7-06 to TCGA-CR-7388-01\n",
      "dtypes: float32(11340), float64(114)\n",
      "memory usage: 2.5+ GB\n"
     ]
    }
   ],
   "source": [
    "features = expressionTpmCompendium[list(allCompatibleColumns)]\n",
    "features.info()\n",
    "# should have 11454 columns\n",
    "\n",
    "# <class 'pandas.core.frame.DataFrame'>\n",
    "# Index: 58581 entries, 5S_rRNA to yR211F11.2\n",
    "# Columns: 11454 entries, TCGA-KU-A6H7-06 to TCGA-F7-8298-01\n",
    "# dtypes: float32(11340), float64(114)\n",
    "# memory usage: 2.5+ GB"
   ]
  },
  {
   "cell_type": "code",
   "execution_count": 24,
   "metadata": {
    "collapsed": false,
    "deletable": true,
    "editable": true
   },
   "outputs": [
    {
     "name": "stdout",
     "output_type": "stream",
     "text": [
      "<class 'pandas.core.frame.DataFrame'>\n",
      "Index: 3 entries, th_sampleid to disease\n",
      "Columns: 11454 entries, TCGA-D3-A2J7-06 to TCGA-CR-7388-01\n",
      "dtypes: object(11454)\n",
      "memory usage: 268.5+ KB\n"
     ]
    }
   ],
   "source": [
    "compendium_id_method_disease_labels=compendium_id_method_disease_labels.drop_duplicates('th_sampleid')\n",
    "compendium_id_method_disease_labels.index = compendium_id_method_disease_labels['th_sampleid']\n",
    "transposeCompendium = compendium_id_method_disease_labels.T\n",
    "transposeCompendium[list(allCompatibleColumns)].info()\n",
    "labels = transposeCompendium[list(allCompatibleColumns)]\n",
    "# should also have 11454 columns\n"
   ]
  },
  {
   "cell_type": "markdown",
   "metadata": {
    "deletable": true,
    "editable": true
   },
   "source": [
    "### Test whether the sets have truely the same ids \n",
    "(If all true then = proved)"
   ]
  },
  {
   "cell_type": "code",
   "execution_count": 25,
   "metadata": {
    "collapsed": false,
    "deletable": true,
    "editable": true
   },
   "outputs": [
    {
     "name": "stdout",
     "output_type": "stream",
     "text": [
      "True\n",
      "True\n",
      "True\n",
      "True\n"
     ]
    }
   ],
   "source": [
    "print(set(features.keys())<=set(labels.keys()))\n",
    "print(set(features.keys())>=set(labels.keys()))\n",
    "# just to double check\n",
    "print(set(labels.keys())<=set(features.keys()))\n",
    "print(set(labels.keys())>=set(features.keys()))"
   ]
  },
  {
   "cell_type": "markdown",
   "metadata": {
    "deletable": true,
    "editable": true
   },
   "source": [
    "# Feature and Label tables \n",
    "- 114 RiboMinus samples\n",
    "- 11340 PolyA samples"
   ]
  },
  {
   "cell_type": "code",
   "execution_count": 26,
   "metadata": {
    "collapsed": false,
    "deletable": true,
    "editable": true
   },
   "outputs": [],
   "source": [
    "labelsTall = labels.T[['tr_method','disease']]"
   ]
  },
  {
   "cell_type": "code",
   "execution_count": 27,
   "metadata": {
    "collapsed": false,
    "deletable": true,
    "editable": true
   },
   "outputs": [
    {
     "data": {
      "text/html": [
       "<div>\n",
       "<table border=\"1\" class=\"dataframe\">\n",
       "  <thead>\n",
       "    <tr style=\"text-align: right;\">\n",
       "      <th></th>\n",
       "      <th>tr_method</th>\n",
       "      <th>disease</th>\n",
       "    </tr>\n",
       "    <tr>\n",
       "      <th>th_sampleid</th>\n",
       "      <th></th>\n",
       "      <th></th>\n",
       "    </tr>\n",
       "  </thead>\n",
       "  <tbody>\n",
       "    <tr>\n",
       "      <th>TCGA-D3-A2J7-06</th>\n",
       "      <td>PolyA</td>\n",
       "      <td>skin cutaneous melanoma</td>\n",
       "    </tr>\n",
       "    <tr>\n",
       "      <th>TCGA-KC-A7FD-01</th>\n",
       "      <td>PolyA</td>\n",
       "      <td>prostate adenocarcinoma</td>\n",
       "    </tr>\n",
       "    <tr>\n",
       "      <th>TCGA-85-8071-01</th>\n",
       "      <td>PolyA</td>\n",
       "      <td>lung squamous cell carcinoma</td>\n",
       "    </tr>\n",
       "    <tr>\n",
       "      <th>TCGA-EM-A3AN-01</th>\n",
       "      <td>PolyA</td>\n",
       "      <td>thyroid carcinoma</td>\n",
       "    </tr>\n",
       "    <tr>\n",
       "      <th>TCGA-55-7284-01</th>\n",
       "      <td>PolyA</td>\n",
       "      <td>lung adenocarcinoma</td>\n",
       "    </tr>\n",
       "  </tbody>\n",
       "</table>\n",
       "</div>"
      ],
      "text/plain": [
       "                tr_method                       disease\n",
       "th_sampleid                                            \n",
       "TCGA-D3-A2J7-06     PolyA       skin cutaneous melanoma\n",
       "TCGA-KC-A7FD-01     PolyA       prostate adenocarcinoma\n",
       "TCGA-85-8071-01     PolyA  lung squamous cell carcinoma\n",
       "TCGA-EM-A3AN-01     PolyA             thyroid carcinoma\n",
       "TCGA-55-7284-01     PolyA           lung adenocarcinoma"
      ]
     },
     "execution_count": 27,
     "metadata": {},
     "output_type": "execute_result"
    }
   ],
   "source": [
    "labelsTall.head()"
   ]
  },
  {
   "cell_type": "code",
   "execution_count": 28,
   "metadata": {
    "collapsed": false,
    "deletable": true,
    "editable": true,
    "scrolled": false
   },
   "outputs": [
    {
     "data": {
      "text/html": [
       "<div>\n",
       "<table border=\"1\" class=\"dataframe\">\n",
       "  <thead>\n",
       "    <tr style=\"text-align: right;\">\n",
       "      <th></th>\n",
       "      <th>TCGA-D3-A2J7-06</th>\n",
       "      <th>TCGA-KC-A7FD-01</th>\n",
       "      <th>TCGA-85-8071-01</th>\n",
       "      <th>TCGA-EM-A3AN-01</th>\n",
       "      <th>TCGA-55-7284-01</th>\n",
       "      <th>TCGA-Z6-A9VB-01</th>\n",
       "      <th>TCGA-CM-4747-01</th>\n",
       "      <th>TCGA-DE-A0XZ-01</th>\n",
       "      <th>TCGA-V4-A9EM-01</th>\n",
       "      <th>TCGA-D7-6815-01</th>\n",
       "      <th>...</th>\n",
       "      <th>TARGET-40-0A4I5B-01A-01R</th>\n",
       "      <th>TARGET-20-PANGJY-09</th>\n",
       "      <th>TCGA-GM-A3NW-01</th>\n",
       "      <th>TCGA-DV-A4W0-05</th>\n",
       "      <th>TCGA-25-2400-01</th>\n",
       "      <th>TCGA-A2-A0CU-01</th>\n",
       "      <th>TCGA-B6-A0RS-01</th>\n",
       "      <th>TARGET-50-PALFRD-01</th>\n",
       "      <th>TCGA-P5-A781-01</th>\n",
       "      <th>TCGA-CR-7388-01</th>\n",
       "    </tr>\n",
       "  </thead>\n",
       "  <tbody>\n",
       "    <tr>\n",
       "      <th>5S_rRNA</th>\n",
       "      <td>0.000000</td>\n",
       "      <td>0.000000</td>\n",
       "      <td>0.000000</td>\n",
       "      <td>0.000000</td>\n",
       "      <td>0.000000</td>\n",
       "      <td>0.717540</td>\n",
       "      <td>0.000000</td>\n",
       "      <td>0.000000</td>\n",
       "      <td>0.000000</td>\n",
       "      <td>0.000000</td>\n",
       "      <td>...</td>\n",
       "      <td>1.298292</td>\n",
       "      <td>0.000000</td>\n",
       "      <td>0.000000</td>\n",
       "      <td>0.000000</td>\n",
       "      <td>0.000000</td>\n",
       "      <td>0.000000</td>\n",
       "      <td>0.000000</td>\n",
       "      <td>0.000000</td>\n",
       "      <td>0.000000</td>\n",
       "      <td>0.000000</td>\n",
       "    </tr>\n",
       "    <tr>\n",
       "      <th>5_8S_rRNA</th>\n",
       "      <td>0.000000</td>\n",
       "      <td>0.000000</td>\n",
       "      <td>0.000000</td>\n",
       "      <td>0.000000</td>\n",
       "      <td>0.000000</td>\n",
       "      <td>0.000000</td>\n",
       "      <td>0.000000</td>\n",
       "      <td>0.000000</td>\n",
       "      <td>0.000000</td>\n",
       "      <td>0.000000</td>\n",
       "      <td>...</td>\n",
       "      <td>0.000000</td>\n",
       "      <td>0.000000</td>\n",
       "      <td>0.000000</td>\n",
       "      <td>0.000000</td>\n",
       "      <td>0.000000</td>\n",
       "      <td>0.000000</td>\n",
       "      <td>0.000000</td>\n",
       "      <td>0.000000</td>\n",
       "      <td>0.000000</td>\n",
       "      <td>0.000000</td>\n",
       "    </tr>\n",
       "    <tr>\n",
       "      <th>7SK</th>\n",
       "      <td>0.000000</td>\n",
       "      <td>0.000000</td>\n",
       "      <td>0.000000</td>\n",
       "      <td>0.000000</td>\n",
       "      <td>0.035647</td>\n",
       "      <td>0.023870</td>\n",
       "      <td>0.000000</td>\n",
       "      <td>0.000000</td>\n",
       "      <td>0.065823</td>\n",
       "      <td>0.000000</td>\n",
       "      <td>...</td>\n",
       "      <td>0.455930</td>\n",
       "      <td>0.000000</td>\n",
       "      <td>0.000000</td>\n",
       "      <td>0.000000</td>\n",
       "      <td>0.047330</td>\n",
       "      <td>0.000000</td>\n",
       "      <td>0.000000</td>\n",
       "      <td>0.000000</td>\n",
       "      <td>0.000000</td>\n",
       "      <td>0.000000</td>\n",
       "    </tr>\n",
       "    <tr>\n",
       "      <th>A1BG</th>\n",
       "      <td>4.993182</td>\n",
       "      <td>2.053139</td>\n",
       "      <td>2.594564</td>\n",
       "      <td>3.702682</td>\n",
       "      <td>3.320516</td>\n",
       "      <td>1.232706</td>\n",
       "      <td>1.536130</td>\n",
       "      <td>4.602871</td>\n",
       "      <td>5.199276</td>\n",
       "      <td>1.803251</td>\n",
       "      <td>...</td>\n",
       "      <td>5.505573</td>\n",
       "      <td>1.395144</td>\n",
       "      <td>7.046446</td>\n",
       "      <td>3.454197</td>\n",
       "      <td>4.087481</td>\n",
       "      <td>4.249446</td>\n",
       "      <td>4.502056</td>\n",
       "      <td>2.601745</td>\n",
       "      <td>2.877778</td>\n",
       "      <td>4.679764</td>\n",
       "    </tr>\n",
       "    <tr>\n",
       "      <th>A1BG-AS1</th>\n",
       "      <td>3.513484</td>\n",
       "      <td>1.056670</td>\n",
       "      <td>1.169999</td>\n",
       "      <td>2.035634</td>\n",
       "      <td>1.669079</td>\n",
       "      <td>0.864038</td>\n",
       "      <td>0.443721</td>\n",
       "      <td>3.044429</td>\n",
       "      <td>2.742043</td>\n",
       "      <td>0.731261</td>\n",
       "      <td>...</td>\n",
       "      <td>1.803227</td>\n",
       "      <td>0.275124</td>\n",
       "      <td>3.320516</td>\n",
       "      <td>1.992807</td>\n",
       "      <td>1.650821</td>\n",
       "      <td>2.485414</td>\n",
       "      <td>2.114435</td>\n",
       "      <td>0.516128</td>\n",
       "      <td>1.131011</td>\n",
       "      <td>2.107747</td>\n",
       "    </tr>\n",
       "  </tbody>\n",
       "</table>\n",
       "<p>5 rows × 11454 columns</p>\n",
       "</div>"
      ],
      "text/plain": [
       "           TCGA-D3-A2J7-06  TCGA-KC-A7FD-01  TCGA-85-8071-01  TCGA-EM-A3AN-01  \\\n",
       "5S_rRNA           0.000000         0.000000         0.000000         0.000000   \n",
       "5_8S_rRNA         0.000000         0.000000         0.000000         0.000000   \n",
       "7SK               0.000000         0.000000         0.000000         0.000000   \n",
       "A1BG              4.993182         2.053139         2.594564         3.702682   \n",
       "A1BG-AS1          3.513484         1.056670         1.169999         2.035634   \n",
       "\n",
       "           TCGA-55-7284-01  TCGA-Z6-A9VB-01  TCGA-CM-4747-01  TCGA-DE-A0XZ-01  \\\n",
       "5S_rRNA           0.000000         0.717540         0.000000         0.000000   \n",
       "5_8S_rRNA         0.000000         0.000000         0.000000         0.000000   \n",
       "7SK               0.035647         0.023870         0.000000         0.000000   \n",
       "A1BG              3.320516         1.232706         1.536130         4.602871   \n",
       "A1BG-AS1          1.669079         0.864038         0.443721         3.044429   \n",
       "\n",
       "           TCGA-V4-A9EM-01  TCGA-D7-6815-01       ...         \\\n",
       "5S_rRNA           0.000000         0.000000       ...          \n",
       "5_8S_rRNA         0.000000         0.000000       ...          \n",
       "7SK               0.065823         0.000000       ...          \n",
       "A1BG              5.199276         1.803251       ...          \n",
       "A1BG-AS1          2.742043         0.731261       ...          \n",
       "\n",
       "           TARGET-40-0A4I5B-01A-01R  TARGET-20-PANGJY-09  TCGA-GM-A3NW-01  \\\n",
       "5S_rRNA                    1.298292             0.000000         0.000000   \n",
       "5_8S_rRNA                  0.000000             0.000000         0.000000   \n",
       "7SK                        0.455930             0.000000         0.000000   \n",
       "A1BG                       5.505573             1.395144         7.046446   \n",
       "A1BG-AS1                   1.803227             0.275124         3.320516   \n",
       "\n",
       "           TCGA-DV-A4W0-05  TCGA-25-2400-01  TCGA-A2-A0CU-01  TCGA-B6-A0RS-01  \\\n",
       "5S_rRNA           0.000000         0.000000         0.000000         0.000000   \n",
       "5_8S_rRNA         0.000000         0.000000         0.000000         0.000000   \n",
       "7SK               0.000000         0.047330         0.000000         0.000000   \n",
       "A1BG              3.454197         4.087481         4.249446         4.502056   \n",
       "A1BG-AS1          1.992807         1.650821         2.485414         2.114435   \n",
       "\n",
       "           TARGET-50-PALFRD-01  TCGA-P5-A781-01  TCGA-CR-7388-01  \n",
       "5S_rRNA               0.000000         0.000000         0.000000  \n",
       "5_8S_rRNA             0.000000         0.000000         0.000000  \n",
       "7SK                   0.000000         0.000000         0.000000  \n",
       "A1BG                  2.601745         2.877778         4.679764  \n",
       "A1BG-AS1              0.516128         1.131011         2.107747  \n",
       "\n",
       "[5 rows x 11454 columns]"
      ]
     },
     "execution_count": 28,
     "metadata": {},
     "output_type": "execute_result"
    }
   ],
   "source": [
    "features.head()"
   ]
  },
  {
   "cell_type": "code",
   "execution_count": 29,
   "metadata": {
    "collapsed": false
   },
   "outputs": [],
   "source": [
    "labelsTall.to_csv('compendiumLabels.tsv', sep='\\t')"
   ]
  },
  {
   "cell_type": "code",
   "execution_count": null,
   "metadata": {
    "collapsed": true
   },
   "outputs": [],
   "source": [
    "features.to_csv('data/compendiumExpression.tsv', sep='\\t')"
   ]
  },
  {
   "cell_type": "code",
   "execution_count": 672,
   "metadata": {
    "collapsed": true,
    "deletable": true,
    "editable": true
   },
   "outputs": [],
   "source": [
    "with pd.HDFStore(\"data/compendiumTrain.h5\", \"w\") as store:\n",
    "    store[\"expression\"] = features.T.sort_index(axis=\"columns\")\n",
    "    store[\"labels\"] = labelsTall.astype(str)"
   ]
  },
  {
   "cell_type": "markdown",
   "metadata": {
    "deletable": true,
    "editable": true
   },
   "source": [
    "### The above data is for another machine learning project taken on by Keller Jordan at the end of this quarter. <br>\n",
    "Below, I am going to be finding disease specific data and also use more variable genes to create my feature set. "
   ]
  },
  {
   "cell_type": "markdown",
   "metadata": {
    "deletable": true,
    "editable": true
   },
   "source": [
    "# Find Disease with the most RiboMinus"
   ]
  },
  {
   "cell_type": "code",
   "execution_count": null,
   "metadata": {
    "collapsed": false,
    "deletable": true,
    "editable": true
   },
   "outputs": [],
   "source": [
    "allDiseases=list(labelsTall['disease'].unique())"
   ]
  },
  {
   "cell_type": "code",
   "execution_count": null,
   "metadata": {
    "collapsed": false,
    "deletable": true,
    "editable": true,
    "scrolled": true
   },
   "outputs": [],
   "source": [
    "maxRiboMinusDisease = ''\n",
    "maxRiboD=0\n",
    "for disease in allDiseases:\n",
    "    polyA_in_this_disease = list(labelsTall[labelsTall.disease == disease]['tr_method']).count('PolyA')\n",
    "    riboD_in_this_disease = list(labelsTall[labelsTall.disease == disease]['tr_method']).count('RiboMinus')\n",
    "    if riboD_in_this_disease > maxRiboD:\n",
    "        maxRiboMinusDisease = disease\n",
    "        maxRiboD = riboD_in_this_disease\n",
    "print(maxRiboMinusDisease)"
   ]
  },
  {
   "cell_type": "markdown",
   "metadata": {
    "deletable": true,
    "editable": true
   },
   "source": [
    "# Find Disease with closest 1/1 RiboMinus to PolyA\n",
    "- looks for highest riboD count and\n",
    "- highest riboD/polyA ratio"
   ]
  },
  {
   "cell_type": "code",
   "execution_count": null,
   "metadata": {
    "collapsed": false,
    "deletable": true,
    "editable": true,
    "scrolled": true
   },
   "outputs": [],
   "source": [
    "mostProportionalDisease = ''\n",
    "bestRatio=0.0\n",
    "highestRiboD = 0\n",
    "for disease in allDiseases:\n",
    "    polyA_in_this_disease = list(labelsTall[labelsTall.disease == disease]['tr_method']).count('PolyA')\n",
    "    riboD_in_this_disease = list(labelsTall[labelsTall.disease == disease]['tr_method']).count('RiboMinus')\n",
    "    if polyA_in_this_disease==0: polyA_in_this_disease=1\n",
    "    if riboD_in_this_disease==0: riboD_in_this_disease=1\n",
    "    ratio=riboD_in_this_disease/polyA_in_this_disease\n",
    "    if ratio < 1 :\n",
    "        if bestRatio < ratio and riboD_in_this_disease > highestRiboD:\n",
    "            bestRatio = ratio\n",
    "            highestRiboD = riboD_in_this_disease\n",
    "            mostProportionalDisease = disease\n",
    "print(mostProportionalDisease, bestRatio, highestRiboD)\n",
    "print('polya:',list(labelsTall[labelsTall.disease == mostProportionalDisease]['tr_method']).count('PolyA'))\n",
    "print('ribominus:',list(labelsTall[labelsTall.disease == mostProportionalDisease]['tr_method']).count('RiboMinus'))\n"
   ]
  },
  {
   "cell_type": "code",
   "execution_count": null,
   "metadata": {
    "collapsed": true,
    "deletable": true,
    "editable": true
   },
   "outputs": [],
   "source": []
  },
  {
   "cell_type": "markdown",
   "metadata": {
    "deletable": true,
    "editable": true
   },
   "source": [
    "# Create most highly variating genes (not DESeq)\n",
    "- Get 75th highest variable genes\n",
    "- Make features have the same genes as those above 75th percentile"
   ]
  },
  {
   "cell_type": "markdown",
   "metadata": {
    "deletable": true,
    "editable": true
   },
   "source": [
    "This takes a long time, you can just read in the variation calculation from a csv file"
   ]
  },
  {
   "cell_type": "code",
   "execution_count": null,
   "metadata": {
    "collapsed": false,
    "deletable": true,
    "editable": true,
    "scrolled": true
   },
   "outputs": [],
   "source": [
    "%%time\n",
    "variationFeatures = features.var(axis=1,numeric_only=True)"
   ]
  },
  {
   "cell_type": "markdown",
   "metadata": {
    "deletable": true,
    "editable": true
   },
   "source": [
    "Read in from csv file"
   ]
  },
  {
   "cell_type": "code",
   "execution_count": null,
   "metadata": {
    "collapsed": false,
    "deletable": true,
    "editable": true
   },
   "outputs": [],
   "source": [
    "variationFeatures = pd.read_csv(\"variationFeatures.csv\",header=0,index_col=0)"
   ]
  },
  {
   "cell_type": "code",
   "execution_count": null,
   "metadata": {
    "collapsed": false,
    "deletable": true,
    "editable": true
   },
   "outputs": [],
   "source": [
    "variationFeatures = variationFeatures.to_frame(name='var')"
   ]
  },
  {
   "cell_type": "code",
   "execution_count": null,
   "metadata": {
    "collapsed": false,
    "deletable": true,
    "editable": true
   },
   "outputs": [],
   "source": [
    "variationFeatures.to_csv(path_or_buf=\"variationFeatures.csv\", sep=',', na_rep='', float_format=None, columns=None, header=True, index=True, index_label=None, mode='w', encoding=None, compression=None, quoting=None, quotechar='\"', line_terminator='\\n', chunksize=None, tupleize_cols=None, date_format=None, doublequote=True, escapechar=None, decimal='.')"
   ]
  },
  {
   "cell_type": "markdown",
   "metadata": {
    "deletable": true,
    "editable": true
   },
   "source": [
    "Get 75th highest variable genes"
   ]
  },
  {
   "cell_type": "code",
   "execution_count": null,
   "metadata": {
    "collapsed": false,
    "deletable": true,
    "editable": true,
    "scrolled": true
   },
   "outputs": [],
   "source": [
    "highVarGenes = variationFeatures[variationFeatures > variationFeatures.quantile(q=0.75)].dropna()"
   ]
  },
  {
   "cell_type": "code",
   "execution_count": null,
   "metadata": {
    "collapsed": false,
    "deletable": true,
    "editable": true
   },
   "outputs": [],
   "source": [
    "len(list(highVarGenes.index))"
   ]
  },
  {
   "cell_type": "markdown",
   "metadata": {
    "deletable": true,
    "editable": true
   },
   "source": [
    "Make features have only these genes"
   ]
  },
  {
   "cell_type": "code",
   "execution_count": null,
   "metadata": {
    "collapsed": false,
    "deletable": true,
    "editable": true
   },
   "outputs": [],
   "source": [
    "%%time\n",
    "highVarFeatures = features[features.index.isin(list(highVarGenes.index))]"
   ]
  },
  {
   "cell_type": "code",
   "execution_count": null,
   "metadata": {
    "collapsed": false,
    "deletable": true,
    "editable": true
   },
   "outputs": [],
   "source": [
    "highVarFeatures.info()"
   ]
  },
  {
   "cell_type": "markdown",
   "metadata": {
    "deletable": true,
    "editable": true
   },
   "source": [
    "# Glioblastoma Multiforme Features and Labels\n",
    "- one feature csv with high variance genes (14,000 genes)\n",
    "- one feature csv with all genes (58,000 genes)\n",
    "- one label csv with identical identifiers (polyA riboD method)\n",
    "- 233 samples\n",
    "- 192 polya\n",
    "- 41 ribod"
   ]
  },
  {
   "cell_type": "code",
   "execution_count": 712,
   "metadata": {
    "collapsed": false,
    "deletable": true,
    "editable": true
   },
   "outputs": [],
   "source": [
    "th_ids_glioma = list(labelsTall[labelsTall.disease == \"glioblastoma multiforme\"].index)"
   ]
  },
  {
   "cell_type": "code",
   "execution_count": 738,
   "metadata": {
    "collapsed": true,
    "deletable": true,
    "editable": true
   },
   "outputs": [],
   "source": [
    "gliomaFeaturesVar = highVarFeatures[th_ids_glioma]\n",
    "gliomaFeatures = features[th_ids_glioma]\n",
    "gliomaLabels = labelsTall[labelsTall.disease == \"glioblastoma multiforme\"]\n",
    "# Export csv format files\n",
    "gliomaFeaturesVar.to_csv(\"data/glioblastomaExpression14kgenes.csv\")\n",
    "gliomaFeatures.to_csv(\"data/glioblastomaExpression.csv\")\n",
    "gliomaLabels.to_csv(\"data/glioblastomaLabels.csv\")"
   ]
  },
  {
   "cell_type": "code",
   "execution_count": 715,
   "metadata": {
    "collapsed": true,
    "deletable": true,
    "editable": true
   },
   "outputs": [],
   "source": [
    "# Export h5 format files\n",
    "with pd.HDFStore(\"data/glioblastomaTrain.h5\", \"w\") as store:\n",
    "    store[\"expression\"] = gliomaFeatures.T.sort_index(axis=\"columns\")\n",
    "    store[\"labels\"] = gliomaLabels.astype(str)"
   ]
  },
  {
   "cell_type": "markdown",
   "metadata": {
    "deletable": true,
    "editable": true
   },
   "source": [
    "# Create Small Test Set of Another Disease\n",
    "- Look for the next best 1/1 riboD polyA with more than 10 riboD samples\n",
    "- get the features and labels to test on model"
   ]
  },
  {
   "cell_type": "code",
   "execution_count": 700,
   "metadata": {
    "collapsed": false,
    "deletable": true,
    "editable": true
   },
   "outputs": [
    {
     "name": "stdout",
     "output_type": "stream",
     "text": [
      "acute lymphoblastic leukemia 0.06037735849056604 16\n",
      "polya: 265\n",
      "ribominus: 16\n",
      "glioblastoma multiforme 0.21354166666666666 41\n",
      "polya: 192\n",
      "ribominus: 41\n"
     ]
    }
   ],
   "source": [
    "mostProportionalDisease = ''\n",
    "bestRatio=0.0\n",
    "highestRiboD = 10\n",
    "for disease in allDiseases:\n",
    "    polyA_in_this_disease = list(labelsTall[labelsTall.disease == disease]['tr_method']).count('PolyA')\n",
    "    riboD_in_this_disease = list(labelsTall[labelsTall.disease == disease]['tr_method']).count('RiboMinus')\n",
    "    if polyA_in_this_disease==0: polyA_in_this_disease=1\n",
    "    if riboD_in_this_disease==0: riboD_in_this_disease=1\n",
    "    ratio=riboD_in_this_disease/polyA_in_this_disease\n",
    "    if ratio < 1 :\n",
    "        if bestRatio < ratio and riboD_in_this_disease > highestRiboD:\n",
    "            bestRatio = ratio\n",
    "            highestRiboD = riboD_in_this_disease\n",
    "            mostProportionalDisease = disease\n",
    "            print(mostProportionalDisease, bestRatio, highestRiboD)\n",
    "            print('polya:',list(labelsTall[labelsTall.disease == mostProportionalDisease]['tr_method']).count('PolyA'))\n",
    "            print('ribominus:',list(labelsTall[labelsTall.disease == mostProportionalDisease]['tr_method']).count('RiboMinus'))\n"
   ]
  },
  {
   "cell_type": "markdown",
   "metadata": {
    "deletable": true,
    "editable": true
   },
   "source": [
    "acute lymphoblastic leukemia is the next most highly riboD and lowest ratio disease"
   ]
  },
  {
   "cell_type": "markdown",
   "metadata": {
    "deletable": true,
    "editable": true
   },
   "source": [
    "# Create Labels for Test Set"
   ]
  },
  {
   "cell_type": "markdown",
   "metadata": {
    "deletable": true,
    "editable": true
   },
   "source": [
    "Create Features and Labels for Test Set"
   ]
  },
  {
   "cell_type": "code",
   "execution_count": 739,
   "metadata": {
    "collapsed": false,
    "deletable": true,
    "editable": true,
    "scrolled": true
   },
   "outputs": [
    {
     "name": "stdout",
     "output_type": "stream",
     "text": [
      "CPU times: user 46.3 s, sys: 4.86 s, total: 51.1 s\n",
      "Wall time: 51.2 s\n"
     ]
    }
   ],
   "source": [
    "%%time\n",
    "th_ids_ALL = list(labelsTall[labelsTall.disease=='acute lymphoblastic leukemia'].index)\n",
    "ALL_FeaturesVar = highVarFeatures[th_ids_ALL]\n",
    "ALL_Features = features[th_ids_ALL]\n",
    "ALL_Labels = labels[list(ALL_Features.T.index)]\n",
    "\n",
    "# Export csv format files\n",
    "ALL_FeaturesVar.to_csv(\"data/ALLeukemiaExpressionVar.csv\")\n",
    "ALL_Features.to_csv(\"data/ALLeukemiaExpression.csv\")\n",
    "ALL_Labels.to_csv(\"data/ALLeukemiaLabels.csv\")"
   ]
  },
  {
   "cell_type": "code",
   "execution_count": 730,
   "metadata": {
    "collapsed": true,
    "deletable": true,
    "editable": true
   },
   "outputs": [],
   "source": [
    "# Export h5 format files\n",
    "with pd.HDFStore(\"data/ALLeukemiaTrain.h5\", \"w\") as store:\n",
    "    store[\"expression\"] = ALL_Features.T.sort_index(axis=\"columns\")\n",
    "    store[\"labels\"] = ALL_Labels.astype(str)"
   ]
  },
  {
   "cell_type": "markdown",
   "metadata": {
    "collapsed": true,
    "deletable": true,
    "editable": true
   },
   "source": [
    "# Reference"
   ]
  },
  {
   "cell_type": "code",
   "execution_count": null,
   "metadata": {
    "collapsed": true,
    "deletable": true,
    "editable": true
   },
   "outputs": [],
   "source": [
    "df2 = pd.DataFrame(np.random.randint(low=0, high=10, size=(5, 5)),columns=['a', 'b', 'c', 'd', 'e'])\n",
    "df1 = pd.DataFrame(np.random.randint(low=10, high=20, size=(5, 5)),columns=['a', 'b', 'c', 'd', 'e'])"
   ]
  },
  {
   "cell_type": "code",
   "execution_count": null,
   "metadata": {
    "collapsed": false,
    "deletable": true,
    "editable": true
   },
   "outputs": [],
   "source": [
    "pd.concat([df2,df1]).sort_index()"
   ]
  },
  {
   "cell_type": "code",
   "execution_count": null,
   "metadata": {
    "collapsed": false,
    "deletable": true,
    "editable": true
   },
   "outputs": [],
   "source": [
    "pd.concat([df2,df1]).sort_index().groupby(level=0).agg('mean')"
   ]
  }
 ],
 "metadata": {
  "kernelspec": {
   "display_name": "Python 3",
   "language": "python",
   "name": "python3"
  }
 },
 "nbformat": 4,
 "nbformat_minor": 2
}

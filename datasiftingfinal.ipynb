{
 "cells": [
  {
   "cell_type": "code",
   "execution_count": 1,
   "metadata": {
    "collapsed": true,
    "deletable": true,
    "editable": true
   },
   "outputs": [],
   "source": [
    "import os, fnmatch\n",
    "import matplotlib.pyplot as plt\n",
    "import csv\n",
    "import numpy as np\n",
    "import pandas as pd\n",
    "import sys\n",
    "import json\n",
    "import glob"
   ]
  },
  {
   "cell_type": "markdown",
   "metadata": {
    "deletable": true,
    "editable": true
   },
   "source": [
    "# Labels\n",
    "Sources:\n",
    "- clinical.tsv\n",
    "- riboDepleted_samples_that_passedQC_and_have_known_diagnosis\n",
    "- TranscriptMethod_THPEDv1"
   ]
  },
  {
   "cell_type": "markdown",
   "metadata": {
    "deletable": true,
    "editable": true
   },
   "source": [
    "# Features\n",
    "Sources:\n",
    "- /data/archive/compendium/v5/v5_hugo_log2tpm.11340x58581.2018-02-03.hd5\n",
    "- /data/archive/downstream/*  [all sampleids possible]\n",
    "    - /secondary/ucsc_cgl-rnaseq-cgl-pipeline-0.0.0-0000000/RSEM/Hugo/\n",
    "        - rsem_genes.hugo.results"
   ]
  },
  {
   "cell_type": "markdown",
   "metadata": {
    "deletable": true,
    "editable": true
   },
   "source": [
    "# Gather Features\n",
    "1. read in compendium (log2(TPM+1))\n",
    "2. find more in downstream source (TPM) \n",
    "3. merge the two using the same gene name both in log2(TPM+1)"
   ]
  },
  {
   "cell_type": "code",
   "execution_count": 2,
   "metadata": {
    "collapsed": false,
    "deletable": true,
    "editable": true
   },
   "outputs": [
    {
     "name": "stdout",
     "output_type": "stream",
     "text": [
      "CPU times: user 3min 9s, sys: 1min 3s, total: 4min 12s\n",
      "Wall time: 4min 12s\n"
     ]
    }
   ],
   "source": [
    "%%time\n",
    "compendium = pd.read_hdf(\"/data/archive/compendium/v5/v5_hugo_log2tpm.11340x58581.2018-02-03.hd5\")\n",
    "\n",
    "basepath=\"/data/archive/downstream/\"\n",
    "postidpath=\"/secondary/ucsc_cgl-rnaseq-cgl-pipeline-0.0.0-0000000/RSEM/Hugo/\"\n",
    "filename=\"rsem_genes.hugo.results\"\n",
    "hugoLogTpmPlusOneFilePathList = glob.glob(basepath + \"*\" + postidpath + filename)\n",
    "\n",
    "rawTPMExpression = pd.DataFrame()\n",
    "for filepath in hugoLogTpmPlusOneFilePathList:\n",
    "    curDf = pd.read_csv(filepath,sep='\\t')\n",
    "    rawTPMExpression[filepath[25:].partition('/')[0]]=curDf['TPM']"
   ]
  },
  {
   "cell_type": "markdown",
   "metadata": {
    "deletable": true,
    "editable": true
   },
   "source": [
    "### Multiple Ensemble IDs match to one HUGO gene name"
   ]
  },
  {
   "cell_type": "code",
   "execution_count": 3,
   "metadata": {
    "collapsed": false,
    "deletable": true,
    "editable": true
   },
   "outputs": [],
   "source": [
    "rawTPMExpression['gene_id'] = curDf['gene_name']\n",
    "rawTPMExpression.index = list(rawTPMExpression['gene_id'])"
   ]
  },
  {
   "cell_type": "markdown",
   "metadata": {
    "deletable": true,
    "editable": true
   },
   "source": [
    "### Remove repeat genes and apply +1 and log2 to rawTPM"
   ]
  },
  {
   "cell_type": "code",
   "execution_count": 4,
   "metadata": {
    "collapsed": false,
    "deletable": true,
    "editable": true
   },
   "outputs": [],
   "source": [
    "rawTPMExpressionShorter=rawTPMExpression.groupby(level=0).agg('mean').add(1).apply(np.log2)"
   ]
  },
  {
   "cell_type": "markdown",
   "metadata": {
    "deletable": true,
    "editable": true
   },
   "source": [
    "### Merge compendium with downstream data"
   ]
  },
  {
   "cell_type": "code",
   "execution_count": 5,
   "metadata": {
    "collapsed": false,
    "deletable": true,
    "editable": true
   },
   "outputs": [
    {
     "name": "stdout",
     "output_type": "stream",
     "text": [
      "CPU times: user 1min 25s, sys: 13.5 s, total: 1min 38s\n",
      "Wall time: 1min 39s\n"
     ]
    }
   ],
   "source": [
    "%%time\n",
    "cols_to_use = rawTPMExpressionShorter.columns.difference(compendium.columns)\n",
    "\n",
    "expressionTpmCompendium = pd.merge(rawTPMExpressionShorter[list(cols_to_use)], compendium, left_index = True, right_index = True)"
   ]
  },
  {
   "cell_type": "markdown",
   "metadata": {
    "deletable": true,
    "editable": true
   },
   "source": [
    "# Gather Labels\n",
    "1. read clinical.tsv (no riboD, so all polyA)\n",
    "2. read riboDepleted_samples_that_passedQC_and_have_known_diagnosis (all riboD)\n",
    "3. read TranscriptMethod_THPEDv1 (compendium both polyA and riboD)\n",
    "4. merge all three and remove repeats"
   ]
  },
  {
   "cell_type": "code",
   "execution_count": 6,
   "metadata": {
    "collapsed": false,
    "deletable": true,
    "editable": true
   },
   "outputs": [],
   "source": [
    "clinicalLabels = pd.read_csv(\"/data/archive/compendium/v5/clinical.tsv\",sep='\\t')\n",
    "clinicalLabels['tr_method']='PolyA'\n",
    "ribodDiagnosis = pd.read_csv(\"riboDepleted_samples_that_passedQC_and_have_known_diagnosis.tsv\", sep='\\t')\n",
    "\n",
    "ribodDiagnosis=ribodDiagnosis.rename(columns={'Treehouse SAMPLE identifier':'th_sampleid','Diagnosis/Disease':'disease'})\n",
    "\n",
    "ribodDiagnosis['tr_method']='RiboMinus'\n",
    "methods = pd.read_csv(\"TranscriptMethod_THPEDv1.csv\")\n",
    "\n",
    "methods = methods.rename(columns={'Treehouse SAMPLE identifier':'th_sampleid','TR_method':'tr_method'})\n",
    "\n",
    "clinicalIdTissue = clinicalLabels[['th_sampleid','anat_sample','disease','tr_method']] \n",
    "df = pd.merge(clinicalIdTissue, ribodDiagnosis, how='outer')\n",
    "df = pd.merge(df,methods,how='outer')\n",
    "df = df[['th_sampleid','tr_method','disease']]\n",
    "# PolyA                11350\n",
    "# RiboMinus              179\n",
    "# suspect RiboMinus        9\n",
    "\n",
    "compendium_id_method_disease_labels = df.dropna()\n",
    "# PolyA        11340\n",
    "# RiboMinus      165"
   ]
  },
  {
   "cell_type": "markdown",
   "metadata": {
    "deletable": true,
    "editable": true
   },
   "source": [
    "# 11454 features intersect labels total\n",
    "- **160 features intersect labels that are RiboMinus**\n",
    "- 11340 features intersect labels that are PolyA"
   ]
  },
  {
   "cell_type": "code",
   "execution_count": 7,
   "metadata": {
    "collapsed": false,
    "deletable": true,
    "editable": true
   },
   "outputs": [
    {
     "data": {
      "text/plain": [
       "11454"
      ]
     },
     "execution_count": 7,
     "metadata": {},
     "output_type": "execute_result"
    }
   ],
   "source": [
    "len(set(list(compendium_id_method_disease_labels['th_sampleid']))&set(expressionTpmCompendium.keys()))"
   ]
  },
  {
   "cell_type": "code",
   "execution_count": 8,
   "metadata": {
    "collapsed": false,
    "deletable": true,
    "editable": true,
    "scrolled": true
   },
   "outputs": [
    {
     "data": {
      "text/plain": [
       "160"
      ]
     },
     "execution_count": 8,
     "metadata": {},
     "output_type": "execute_result"
    }
   ],
   "source": [
    "labelsRiboD=compendium_id_method_disease_labels[compendium_id_method_disease_labels['tr_method']=='RiboMinus']['th_sampleid']\n",
    "len(set(labelsRiboD)&set(expressionTpmCompendium.keys()))"
   ]
  },
  {
   "cell_type": "code",
   "execution_count": 9,
   "metadata": {
    "collapsed": false,
    "deletable": true,
    "editable": true
   },
   "outputs": [
    {
     "data": {
      "text/plain": [
       "11340"
      ]
     },
     "execution_count": 9,
     "metadata": {},
     "output_type": "execute_result"
    }
   ],
   "source": [
    "labelsRiboD=compendium_id_method_disease_labels[compendium_id_method_disease_labels['tr_method']=='PolyA']['th_sampleid']\n",
    "len(set(labelsRiboD)&set(expressionTpmCompendium.keys()))"
   ]
  },
  {
   "cell_type": "markdown",
   "metadata": {
    "deletable": true,
    "editable": true
   },
   "source": [
    "# Make labels and features intersect ids\n",
    "1. find all columns that are intersecting in both\n",
    "2. create features from compatible columns\n",
    "3. remove duplicates from labels \n",
    "4. transpose label list to access ids as columns\n",
    "5. create labels from compatible columns"
   ]
  },
  {
   "cell_type": "code",
   "execution_count": 10,
   "metadata": {
    "collapsed": false,
    "deletable": true,
    "editable": true
   },
   "outputs": [],
   "source": [
    "allColumns = set(compendium_id_method_disease_labels['th_sampleid'])|set(expressionTpmCompendium.keys())\n",
    "columnsNotInLabels = allColumns^set(compendium_id_method_disease_labels['th_sampleid'])\n",
    "columnsNotInFeatures = allColumns^set(expressionTpmCompendium.keys())\n",
    "allNonCompatibleColumns = columnsNotInFeatures^columnsNotInLabels\n",
    "allCompatibleColumns = allColumns-allNonCompatibleColumns"
   ]
  },
  {
   "cell_type": "code",
   "execution_count": 11,
   "metadata": {
    "collapsed": false,
    "deletable": true,
    "editable": true
   },
   "outputs": [],
   "source": [
    "features = expressionTpmCompendium[list(allCompatibleColumns)]\n",
    "#  have 11454 columns"
   ]
  },
  {
   "cell_type": "code",
   "execution_count": 12,
   "metadata": {
    "collapsed": false,
    "deletable": true,
    "editable": true
   },
   "outputs": [],
   "source": [
    "compendium_id_method_disease_labels=compendium_id_method_disease_labels.drop_duplicates('th_sampleid')\n",
    "compendium_id_method_disease_labels.index = compendium_id_method_disease_labels['th_sampleid']\n",
    "transposeCompendium = compendium_id_method_disease_labels.T\n",
    "labels = transposeCompendium[list(allCompatibleColumns)]\n",
    "#  also have 11454 columns"
   ]
  },
  {
   "cell_type": "markdown",
   "metadata": {
    "deletable": true,
    "editable": true
   },
   "source": [
    "### Test whether the sets have truely the same ids \n",
    "(If all true then = proved)"
   ]
  },
  {
   "cell_type": "code",
   "execution_count": 13,
   "metadata": {
    "collapsed": false,
    "deletable": true,
    "editable": true
   },
   "outputs": [
    {
     "name": "stdout",
     "output_type": "stream",
     "text": [
      "True\n",
      "True\n",
      "True\n",
      "True\n"
     ]
    }
   ],
   "source": [
    "print(set(features.keys())<=set(labels.keys()))\n",
    "print(set(features.keys())>=set(labels.keys()))\n",
    "# just to double check\n",
    "print(set(labels.keys())<=set(features.keys()))\n",
    "print(set(labels.keys())>=set(features.keys()))"
   ]
  },
  {
   "cell_type": "markdown",
   "metadata": {
    "deletable": true,
    "editable": true
   },
   "source": [
    "# Feature and Label tables \n",
    "- 114 RiboMinus samples\n",
    "- 11340 PolyA samples"
   ]
  },
  {
   "cell_type": "code",
   "execution_count": 14,
   "metadata": {
    "collapsed": false,
    "deletable": true,
    "editable": true
   },
   "outputs": [],
   "source": [
    "labelsTall = labels.T[['tr_method','disease']]"
   ]
  },
  {
   "cell_type": "code",
   "execution_count": 15,
   "metadata": {
    "collapsed": false,
    "deletable": true,
    "editable": true
   },
   "outputs": [
    {
     "data": {
      "text/html": [
       "<div>\n",
       "<table border=\"1\" class=\"dataframe\">\n",
       "  <thead>\n",
       "    <tr style=\"text-align: right;\">\n",
       "      <th></th>\n",
       "      <th>tr_method</th>\n",
       "      <th>disease</th>\n",
       "    </tr>\n",
       "    <tr>\n",
       "      <th>th_sampleid</th>\n",
       "      <th></th>\n",
       "      <th></th>\n",
       "    </tr>\n",
       "  </thead>\n",
       "  <tbody>\n",
       "    <tr>\n",
       "      <th>TCGA-BP-4176-01</th>\n",
       "      <td>PolyA</td>\n",
       "      <td>kidney clear cell carcinoma</td>\n",
       "    </tr>\n",
       "    <tr>\n",
       "      <th>TCGA-GC-A3BM-01</th>\n",
       "      <td>PolyA</td>\n",
       "      <td>bladder urothelial carcinoma</td>\n",
       "    </tr>\n",
       "    <tr>\n",
       "      <th>TCGA-CQ-7063-01</th>\n",
       "      <td>PolyA</td>\n",
       "      <td>head &amp; neck squamous cell carcinoma</td>\n",
       "    </tr>\n",
       "    <tr>\n",
       "      <th>TCGA-3K-AAZ8-01</th>\n",
       "      <td>PolyA</td>\n",
       "      <td>hepatocellular carcinoma</td>\n",
       "    </tr>\n",
       "    <tr>\n",
       "      <th>TCGA-24-1431-01</th>\n",
       "      <td>PolyA</td>\n",
       "      <td>ovarian serous cystadenocarcinoma</td>\n",
       "    </tr>\n",
       "  </tbody>\n",
       "</table>\n",
       "</div>"
      ],
      "text/plain": [
       "                tr_method                              disease\n",
       "th_sampleid                                                   \n",
       "TCGA-BP-4176-01     PolyA          kidney clear cell carcinoma\n",
       "TCGA-GC-A3BM-01     PolyA         bladder urothelial carcinoma\n",
       "TCGA-CQ-7063-01     PolyA  head & neck squamous cell carcinoma\n",
       "TCGA-3K-AAZ8-01     PolyA             hepatocellular carcinoma\n",
       "TCGA-24-1431-01     PolyA    ovarian serous cystadenocarcinoma"
      ]
     },
     "execution_count": 15,
     "metadata": {},
     "output_type": "execute_result"
    }
   ],
   "source": [
    "labelsTall.head()"
   ]
  },
  {
   "cell_type": "code",
   "execution_count": 16,
   "metadata": {
    "collapsed": false,
    "deletable": true,
    "editable": true,
    "scrolled": false
   },
   "outputs": [
    {
     "data": {
      "text/html": [
       "<div>\n",
       "<table border=\"1\" class=\"dataframe\">\n",
       "  <thead>\n",
       "    <tr style=\"text-align: right;\">\n",
       "      <th></th>\n",
       "      <th>TCGA-BP-4176-01</th>\n",
       "      <th>TCGA-GC-A3BM-01</th>\n",
       "      <th>TCGA-CQ-7063-01</th>\n",
       "      <th>TCGA-3K-AAZ8-01</th>\n",
       "      <th>TCGA-24-1431-01</th>\n",
       "      <th>TCGA-ET-A3DO-01</th>\n",
       "      <th>TARGET-10-PARSGC-03</th>\n",
       "      <th>TCGA-FG-8181-01</th>\n",
       "      <th>TCGA-F5-6811-01</th>\n",
       "      <th>THR29_0755_S01</th>\n",
       "      <th>...</th>\n",
       "      <th>TCGA-28-2509-01</th>\n",
       "      <th>TCGA-Q3-AA2A-01</th>\n",
       "      <th>TCGA-24-2023-01</th>\n",
       "      <th>TCGA-YZ-A984-01</th>\n",
       "      <th>TCGA-41-2572-01</th>\n",
       "      <th>TCGA-DE-A4MD-01</th>\n",
       "      <th>TCGA-DD-AAEH-01</th>\n",
       "      <th>TCGA-B9-A69E-01</th>\n",
       "      <th>TCGA-EY-A5W2-01</th>\n",
       "      <th>TCGA-KL-8328-01</th>\n",
       "    </tr>\n",
       "  </thead>\n",
       "  <tbody>\n",
       "    <tr>\n",
       "      <th>5S_rRNA</th>\n",
       "      <td>0.000000</td>\n",
       "      <td>0.000000</td>\n",
       "      <td>0.000000</td>\n",
       "      <td>0.000000</td>\n",
       "      <td>0.000000</td>\n",
       "      <td>0.000000</td>\n",
       "      <td>0.000000</td>\n",
       "      <td>0.000000</td>\n",
       "      <td>0.000000</td>\n",
       "      <td>0.000000</td>\n",
       "      <td>...</td>\n",
       "      <td>0.000000</td>\n",
       "      <td>0.00000</td>\n",
       "      <td>0.000000</td>\n",
       "      <td>0.000000</td>\n",
       "      <td>0.000000</td>\n",
       "      <td>0.000000</td>\n",
       "      <td>0.000000</td>\n",
       "      <td>0.000000</td>\n",
       "      <td>0.000000</td>\n",
       "      <td>0.000000</td>\n",
       "    </tr>\n",
       "    <tr>\n",
       "      <th>5_8S_rRNA</th>\n",
       "      <td>0.000000</td>\n",
       "      <td>0.000000</td>\n",
       "      <td>0.000000</td>\n",
       "      <td>0.000000</td>\n",
       "      <td>0.000000</td>\n",
       "      <td>0.000000</td>\n",
       "      <td>0.000000</td>\n",
       "      <td>0.000000</td>\n",
       "      <td>0.000000</td>\n",
       "      <td>0.000000</td>\n",
       "      <td>...</td>\n",
       "      <td>0.000000</td>\n",
       "      <td>0.00000</td>\n",
       "      <td>0.000000</td>\n",
       "      <td>0.000000</td>\n",
       "      <td>0.000000</td>\n",
       "      <td>0.000000</td>\n",
       "      <td>0.000000</td>\n",
       "      <td>0.000000</td>\n",
       "      <td>0.000000</td>\n",
       "      <td>0.000000</td>\n",
       "    </tr>\n",
       "    <tr>\n",
       "      <th>7SK</th>\n",
       "      <td>0.054294</td>\n",
       "      <td>0.000000</td>\n",
       "      <td>0.000000</td>\n",
       "      <td>0.000000</td>\n",
       "      <td>0.033324</td>\n",
       "      <td>0.000000</td>\n",
       "      <td>0.037990</td>\n",
       "      <td>0.000000</td>\n",
       "      <td>0.000000</td>\n",
       "      <td>0.000000</td>\n",
       "      <td>...</td>\n",
       "      <td>0.000000</td>\n",
       "      <td>0.00000</td>\n",
       "      <td>0.000000</td>\n",
       "      <td>0.000000</td>\n",
       "      <td>0.000000</td>\n",
       "      <td>0.000000</td>\n",
       "      <td>0.000000</td>\n",
       "      <td>0.000000</td>\n",
       "      <td>0.000000</td>\n",
       "      <td>0.000000</td>\n",
       "    </tr>\n",
       "    <tr>\n",
       "      <th>A1BG</th>\n",
       "      <td>2.744170</td>\n",
       "      <td>1.384132</td>\n",
       "      <td>2.111051</td>\n",
       "      <td>11.403532</td>\n",
       "      <td>1.895314</td>\n",
       "      <td>4.880677</td>\n",
       "      <td>4.392991</td>\n",
       "      <td>3.659896</td>\n",
       "      <td>1.361835</td>\n",
       "      <td>4.107688</td>\n",
       "      <td>...</td>\n",
       "      <td>5.691269</td>\n",
       "      <td>3.39778</td>\n",
       "      <td>4.395753</td>\n",
       "      <td>2.700467</td>\n",
       "      <td>6.587368</td>\n",
       "      <td>1.339210</td>\n",
       "      <td>10.864874</td>\n",
       "      <td>3.177962</td>\n",
       "      <td>2.980032</td>\n",
       "      <td>1.963548</td>\n",
       "    </tr>\n",
       "    <tr>\n",
       "      <th>A1BG-AS1</th>\n",
       "      <td>1.316216</td>\n",
       "      <td>0.536153</td>\n",
       "      <td>0.918464</td>\n",
       "      <td>1.189114</td>\n",
       "      <td>0.815671</td>\n",
       "      <td>2.843969</td>\n",
       "      <td>1.214170</td>\n",
       "      <td>3.542255</td>\n",
       "      <td>0.739941</td>\n",
       "      <td>2.381283</td>\n",
       "      <td>...</td>\n",
       "      <td>2.648508</td>\n",
       "      <td>0.96354</td>\n",
       "      <td>1.546046</td>\n",
       "      <td>1.918422</td>\n",
       "      <td>3.244872</td>\n",
       "      <td>0.443721</td>\n",
       "      <td>0.926076</td>\n",
       "      <td>1.384132</td>\n",
       "      <td>0.669106</td>\n",
       "      <td>0.201757</td>\n",
       "    </tr>\n",
       "  </tbody>\n",
       "</table>\n",
       "<p>5 rows × 11454 columns</p>\n",
       "</div>"
      ],
      "text/plain": [
       "           TCGA-BP-4176-01  TCGA-GC-A3BM-01  TCGA-CQ-7063-01  TCGA-3K-AAZ8-01  \\\n",
       "5S_rRNA           0.000000         0.000000         0.000000         0.000000   \n",
       "5_8S_rRNA         0.000000         0.000000         0.000000         0.000000   \n",
       "7SK               0.054294         0.000000         0.000000         0.000000   \n",
       "A1BG              2.744170         1.384132         2.111051        11.403532   \n",
       "A1BG-AS1          1.316216         0.536153         0.918464         1.189114   \n",
       "\n",
       "           TCGA-24-1431-01  TCGA-ET-A3DO-01  TARGET-10-PARSGC-03  \\\n",
       "5S_rRNA           0.000000         0.000000             0.000000   \n",
       "5_8S_rRNA         0.000000         0.000000             0.000000   \n",
       "7SK               0.033324         0.000000             0.037990   \n",
       "A1BG              1.895314         4.880677             4.392991   \n",
       "A1BG-AS1          0.815671         2.843969             1.214170   \n",
       "\n",
       "           TCGA-FG-8181-01  TCGA-F5-6811-01  THR29_0755_S01       ...         \\\n",
       "5S_rRNA           0.000000         0.000000        0.000000       ...          \n",
       "5_8S_rRNA         0.000000         0.000000        0.000000       ...          \n",
       "7SK               0.000000         0.000000        0.000000       ...          \n",
       "A1BG              3.659896         1.361835        4.107688       ...          \n",
       "A1BG-AS1          3.542255         0.739941        2.381283       ...          \n",
       "\n",
       "           TCGA-28-2509-01  TCGA-Q3-AA2A-01  TCGA-24-2023-01  TCGA-YZ-A984-01  \\\n",
       "5S_rRNA           0.000000          0.00000         0.000000         0.000000   \n",
       "5_8S_rRNA         0.000000          0.00000         0.000000         0.000000   \n",
       "7SK               0.000000          0.00000         0.000000         0.000000   \n",
       "A1BG              5.691269          3.39778         4.395753         2.700467   \n",
       "A1BG-AS1          2.648508          0.96354         1.546046         1.918422   \n",
       "\n",
       "           TCGA-41-2572-01  TCGA-DE-A4MD-01  TCGA-DD-AAEH-01  TCGA-B9-A69E-01  \\\n",
       "5S_rRNA           0.000000         0.000000         0.000000         0.000000   \n",
       "5_8S_rRNA         0.000000         0.000000         0.000000         0.000000   \n",
       "7SK               0.000000         0.000000         0.000000         0.000000   \n",
       "A1BG              6.587368         1.339210        10.864874         3.177962   \n",
       "A1BG-AS1          3.244872         0.443721         0.926076         1.384132   \n",
       "\n",
       "           TCGA-EY-A5W2-01  TCGA-KL-8328-01  \n",
       "5S_rRNA           0.000000         0.000000  \n",
       "5_8S_rRNA         0.000000         0.000000  \n",
       "7SK               0.000000         0.000000  \n",
       "A1BG              2.980032         1.963548  \n",
       "A1BG-AS1          0.669106         0.201757  \n",
       "\n",
       "[5 rows x 11454 columns]"
      ]
     },
     "execution_count": 16,
     "metadata": {},
     "output_type": "execute_result"
    }
   ],
   "source": [
    "features.head()"
   ]
  },
  {
   "cell_type": "markdown",
   "metadata": {
    "deletable": true,
    "editable": true
   },
   "source": [
    "### Export to csv and hdf5 files"
   ]
  },
  {
   "cell_type": "markdown",
   "metadata": {},
   "source": [
    "(This cell takes awhile to run)"
   ]
  },
  {
   "cell_type": "code",
   "execution_count": 19,
   "metadata": {
    "collapsed": false,
    "deletable": true,
    "editable": true
   },
   "outputs": [
    {
     "name": "stdout",
     "output_type": "stream",
     "text": [
      "CPU times: user 22min 39s, sys: 1min 56s, total: 24min 35s\n",
      "Wall time: 24min 38s\n"
     ]
    }
   ],
   "source": [
    "%%time\n",
    "labelsTall.to_csv('compendiumLabels.tsv', sep='\\t')\n",
    "\n",
    "features.to_csv('data/compendiumExpression.tsv', sep='\\t')"
   ]
  },
  {
   "cell_type": "markdown",
   "metadata": {
    "deletable": true,
    "editable": true
   },
   "source": [
    "# Find Disease with at least one RiboMinus and one PolyA\n",
    "- For use in DESeq"
   ]
  },
  {
   "cell_type": "code",
   "execution_count": null,
   "metadata": {
    "collapsed": false,
    "deletable": true,
    "editable": true
   },
   "outputs": [],
   "source": [
    "allDiseases=list(labelsTall['disease'].unique())\n",
    "\n",
    "maxRiboMinusDisease = ''\n",
    "maxRiboD=0\n",
    "multiMethodDiseases = []\n",
    "for disease in allDiseases:\n",
    "    polyA_in_this_disease = list(labelsTall[labelsTall.disease == disease]['tr_method']).count('PolyA')\n",
    "    riboD_in_this_disease = list(labelsTall[labelsTall.disease == disease]['tr_method']).count('RiboMinus')\n",
    "    if riboD_in_this_disease >= 1 and polyA_in_this_disease >= 1:\n",
    "        multiMethodDiseases.append(disease)\n",
    "print(multiMethodDiseases)\n"
   ]
  },
  {
   "cell_type": "markdown",
   "metadata": {
    "deletable": true,
    "editable": true
   },
   "source": [
    "### Above is for DESeq analysis<br>\n",
    "Below, I am going to be finding disease specific data and also use more variable genes to create my feature set for the first Logistic Regression. "
   ]
  },
  {
   "cell_type": "markdown",
   "metadata": {
    "deletable": true,
    "editable": true
   },
   "source": [
    "# Find Disease with the most RiboMinus"
   ]
  },
  {
   "cell_type": "code",
   "execution_count": null,
   "metadata": {
    "collapsed": false,
    "deletable": true,
    "editable": true
   },
   "outputs": [],
   "source": [
    "allDiseases=list(labelsTall['disease'].unique())\n",
    "\n",
    "maxRiboMinusDisease = ''\n",
    "maxRiboD=0\n",
    "for disease in allDiseases:\n",
    "    polyA_in_this_disease = list(labelsTall[labelsTall.disease == disease]['tr_method']).count('PolyA')\n",
    "    riboD_in_this_disease = list(labelsTall[labelsTall.disease == disease]['tr_method']).count('RiboMinus')\n",
    "    if riboD_in_this_disease > maxRiboD:\n",
    "        maxRiboMinusDisease = disease\n",
    "        maxRiboD = riboD_in_this_disease\n",
    "print(maxRiboMinusDisease)"
   ]
  },
  {
   "cell_type": "markdown",
   "metadata": {
    "deletable": true,
    "editable": true
   },
   "source": [
    "# Find Disease with closest 1/1 RiboMinus to PolyA\n",
    "- looks for highest riboD count and\n",
    "- highest riboD/polyA ratio"
   ]
  },
  {
   "cell_type": "code",
   "execution_count": null,
   "metadata": {
    "collapsed": false,
    "deletable": true,
    "editable": true,
    "scrolled": true
   },
   "outputs": [],
   "source": [
    "mostProportionalDisease = ''\n",
    "bestRatio=0.0\n",
    "highestRiboD = 0\n",
    "for disease in allDiseases:\n",
    "    polyA_in_this_disease = list(labelsTall[labelsTall.disease == disease]['tr_method']).count('PolyA')\n",
    "    riboD_in_this_disease = list(labelsTall[labelsTall.disease == disease]['tr_method']).count('RiboMinus')\n",
    "    if polyA_in_this_disease==0: polyA_in_this_disease=1\n",
    "    if riboD_in_this_disease==0: riboD_in_this_disease=1\n",
    "    ratio=riboD_in_this_disease/polyA_in_this_disease\n",
    "    if ratio < 1 :\n",
    "        if bestRatio < ratio and riboD_in_this_disease > highestRiboD:\n",
    "            bestRatio = ratio\n",
    "            highestRiboD = riboD_in_this_disease\n",
    "            mostProportionalDisease = disease\n",
    "print(mostProportionalDisease, bestRatio, highestRiboD)\n",
    "print('polya:',list(labelsTall[labelsTall.disease == mostProportionalDisease]['tr_method']).count('PolyA'))\n",
    "print('ribominus:',list(labelsTall[labelsTall.disease == mostProportionalDisease]['tr_method']).count('RiboMinus'))\n"
   ]
  },
  {
   "cell_type": "markdown",
   "metadata": {
    "deletable": true,
    "editable": true
   },
   "source": [
    "# Create most highly variating genes (not DESeq)\n",
    "- Get 75th highest variable genes\n",
    "- Make features have the same genes as those above 75th percentile"
   ]
  },
  {
   "cell_type": "markdown",
   "metadata": {
    "deletable": true,
    "editable": true
   },
   "source": [
    "This takes a long time, you can just read in the variation calculation from a csv file"
   ]
  },
  {
   "cell_type": "code",
   "execution_count": null,
   "metadata": {
    "collapsed": false,
    "deletable": true,
    "editable": true,
    "scrolled": true
   },
   "outputs": [],
   "source": [
    "%%time\n",
    "variationFeatures = features.var(axis=1,numeric_only=True)"
   ]
  },
  {
   "cell_type": "markdown",
   "metadata": {
    "deletable": true,
    "editable": true
   },
   "source": [
    "Read in from csv file"
   ]
  },
  {
   "cell_type": "code",
   "execution_count": null,
   "metadata": {
    "collapsed": false,
    "deletable": true,
    "editable": true
   },
   "outputs": [],
   "source": [
    "variationFeatures = pd.read_csv(\"variationFeatures.csv\",header=0,index_col=0)\n",
    "\n",
    "variationFeatures = variationFeatures.to_frame(name='var')\n",
    "\n",
    "variationFeatures.to_csv(path_or_buf=\"variationFeatures.csv\", sep=',', na_rep='', float_format=None, columns=None, header=True, index=True, index_label=None, mode='w', encoding=None, compression=None, quoting=None, quotechar='\"', line_terminator='\\n', chunksize=None, tupleize_cols=None, date_format=None, doublequote=True, escapechar=None, decimal='.')"
   ]
  },
  {
   "cell_type": "markdown",
   "metadata": {
    "deletable": true,
    "editable": true
   },
   "source": [
    "Get 75th highest variable genes"
   ]
  },
  {
   "cell_type": "code",
   "execution_count": null,
   "metadata": {
    "collapsed": false,
    "deletable": true,
    "editable": true,
    "scrolled": true
   },
   "outputs": [],
   "source": [
    "highVarGenes = variationFeatures[variationFeatures > variationFeatures.quantile(q=0.75)].dropna()\n",
    "\n",
    "len(list(highVarGenes.index))"
   ]
  },
  {
   "cell_type": "markdown",
   "metadata": {
    "deletable": true,
    "editable": true
   },
   "source": [
    "Make features have only these genes"
   ]
  },
  {
   "cell_type": "code",
   "execution_count": null,
   "metadata": {
    "collapsed": true,
    "deletable": true,
    "editable": true
   },
   "outputs": [],
   "source": [
    "%%time\n",
    "highVarFeatures = features[features.index.isin(list(highVarGenes.index))]"
   ]
  },
  {
   "cell_type": "markdown",
   "metadata": {
    "deletable": true,
    "editable": true
   },
   "source": [
    "# Glioblastoma Multiforme Features and Labels\n",
    "- one feature csv with high variance genes (14,000 genes)\n",
    "- one feature csv with all genes (58,000 genes)\n",
    "- one label csv with identical identifiers (polyA riboD method)\n",
    "- 233 samples\n",
    "- 192 polya\n",
    "- 41 ribod"
   ]
  },
  {
   "cell_type": "code",
   "execution_count": null,
   "metadata": {
    "collapsed": false,
    "deletable": true,
    "editable": true
   },
   "outputs": [],
   "source": [
    "th_ids_glioma = list(labelsTall[labelsTall.disease == \"glioblastoma multiforme\"].index)\n",
    "\n",
    "gliomaFeaturesVar = highVarFeatures[th_ids_glioma]\n",
    "gliomaFeatures = features[th_ids_glioma]\n",
    "gliomaLabels = labelsTall[labelsTall.disease == \"glioblastoma multiforme\"]\n",
    "# Export csv format files\n",
    "gliomaFeaturesVar.to_csv(\"data/glioblastomaExpression14kgenes.csv\")\n",
    "gliomaFeatures.to_csv(\"data/glioblastomaExpression.csv\")\n",
    "gliomaLabels.to_csv(\"data/glioblastomaLabels.csv\")\n",
    "\n",
    "# Export h5 format files\n",
    "with pd.HDFStore(\"data/glioblastomaTrain.h5\", \"w\") as store:\n",
    "    store[\"expression\"] = gliomaFeatures.T.sort_index(axis=\"columns\")\n",
    "    store[\"labels\"] = gliomaLabels.astype(str)"
   ]
  },
  {
   "cell_type": "markdown",
   "metadata": {
    "deletable": true,
    "editable": true
   },
   "source": [
    "# Create Small Test Set of Another Disease\n",
    "- Look for the next best 1/1 riboD polyA with more than 10 riboD samples\n",
    "- get the features and labels to test on model"
   ]
  },
  {
   "cell_type": "code",
   "execution_count": null,
   "metadata": {
    "collapsed": false,
    "deletable": true,
    "editable": true
   },
   "outputs": [],
   "source": [
    "mostProportionalDisease = ''\n",
    "bestRatio=0.0\n",
    "highestRiboD = 10\n",
    "for disease in allDiseases:\n",
    "    polyA_in_this_disease = list(labelsTall[labelsTall.disease == disease]['tr_method']).count('PolyA')\n",
    "    riboD_in_this_disease = list(labelsTall[labelsTall.disease == disease]['tr_method']).count('RiboMinus')\n",
    "    if polyA_in_this_disease==0: polyA_in_this_disease=1\n",
    "    if riboD_in_this_disease==0: riboD_in_this_disease=1\n",
    "    ratio=riboD_in_this_disease/polyA_in_this_disease\n",
    "    if ratio < 1 :\n",
    "        if bestRatio < ratio and riboD_in_this_disease > highestRiboD:\n",
    "            bestRatio = ratio\n",
    "            highestRiboD = riboD_in_this_disease\n",
    "            mostProportionalDisease = disease\n",
    "            print(mostProportionalDisease, bestRatio, highestRiboD)\n",
    "            print('polya:',list(labelsTall[labelsTall.disease == mostProportionalDisease]['tr_method']).count('PolyA'))\n",
    "            print('ribominus:',list(labelsTall[labelsTall.disease == mostProportionalDisease]['tr_method']).count('RiboMinus'))\n"
   ]
  },
  {
   "cell_type": "markdown",
   "metadata": {
    "deletable": true,
    "editable": true
   },
   "source": [
    "acute lymphoblastic leukemia is the next most highly riboD and lowest ratio disease"
   ]
  },
  {
   "cell_type": "markdown",
   "metadata": {
    "deletable": true,
    "editable": true
   },
   "source": [
    "# Create Labels for Test Set"
   ]
  },
  {
   "cell_type": "markdown",
   "metadata": {
    "deletable": true,
    "editable": true
   },
   "source": [
    "Create Features and Labels for Test Set and export to csv files and hdf5"
   ]
  },
  {
   "cell_type": "code",
   "execution_count": null,
   "metadata": {
    "collapsed": false,
    "deletable": true,
    "editable": true,
    "scrolled": true
   },
   "outputs": [],
   "source": [
    "%%time\n",
    "th_ids_ALL = list(labelsTall[labelsTall.disease=='acute lymphoblastic leukemia'].index)\n",
    "ALL_FeaturesVar = highVarFeatures[th_ids_ALL]\n",
    "ALL_Features = features[th_ids_ALL]\n",
    "ALL_Labels = labels[list(ALL_Features.T.index)]\n",
    "\n",
    "# Export csv format files\n",
    "ALL_FeaturesVar.to_csv(\"data/ALLeukemiaExpressionVar.csv\")\n",
    "ALL_Features.to_csv(\"data/ALLeukemiaExpression.csv\")\n",
    "ALL_Labels.to_csv(\"data/ALLeukemiaLabels.csv\")"
   ]
  },
  {
   "cell_type": "code",
   "execution_count": null,
   "metadata": {
    "collapsed": true,
    "deletable": true,
    "editable": true
   },
   "outputs": [],
   "source": [
    "# Export h5 format files\n",
    "with pd.HDFStore(\"data/ALLeukemiaTrain.h5\", \"w\") as store:\n",
    "    store[\"expression\"] = ALL_Features.T.sort_index(axis=\"columns\")\n",
    "    store[\"labels\"] = ALL_Labels.astype(str)"
   ]
  },
  {
   "cell_type": "markdown",
   "metadata": {
    "collapsed": true,
    "deletable": true,
    "editable": true
   },
   "source": [
    "# Reference"
   ]
  },
  {
   "cell_type": "code",
   "execution_count": null,
   "metadata": {
    "collapsed": true,
    "deletable": true,
    "editable": true
   },
   "outputs": [],
   "source": [
    "df2 = pd.DataFrame(np.random.randint(low=0, high=10, size=(5, 5)),columns=['a', 'b', 'c', 'd', 'e'])\n",
    "df1 = pd.DataFrame(np.random.randint(low=10, high=20, size=(5, 5)),columns=['a', 'b', 'c', 'd', 'e'])\n",
    "\n",
    "pd.concat([df2,df1]).sort_index()\n",
    "\n",
    "pd.concat([df2,df1]).sort_index().groupby(level=0).agg('mean')"
   ]
  }
 ],
 "metadata": {
  "kernelspec": {
   "display_name": "Python 3",
   "language": "python",
   "name": "python3"
  },
  "language_info": {
   "codemirror_mode": {
    "name": "ipython",
    "version": 3
   },
   "file_extension": ".py",
   "mimetype": "text/x-python",
   "name": "python",
   "nbconvert_exporter": "python",
   "pygments_lexer": "ipython3",
   "version": "3.5.2"
  }
 },
 "nbformat": 4,
 "nbformat_minor": 2
}

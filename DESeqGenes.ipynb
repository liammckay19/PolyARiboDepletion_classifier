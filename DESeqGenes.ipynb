{
 "cells": [
  {
   "cell_type": "markdown",
   "metadata": {},
   "source": [
    "### Requirements for DESeq"
   ]
  },
  {
   "cell_type": "markdown",
   "metadata": {},
   "source": [
    "\"The count values must be raw counts of sequencing reads. This is important for DESeq’s statistical model to hold,\n",
    "as only the actual counts allow assessing the measurement precision correctly. Hence, please do do not supply other\n",
    "quantities, such as (rounded) normalized counts, or counts of covered base pairs – this will only lead to nonsensical\n",
    "results.\" https://bioconductor.org/packages/release/bioc/vignettes/DESeq/inst/doc/DESeq.pdf"
   ]
  },
  {
   "cell_type": "markdown",
   "metadata": {},
   "source": [
    "# Differential Expression\n",
    "- Load in glioblastoma features as read count\n",
    "    - Use ids from glioblastoma features of normalized TPM\n",
    "- caculate using DESeq library\n",
    "- output new train and test features in log2(TPM+1) with differential expressed genes "
   ]
  },
  {
   "cell_type": "markdown",
   "metadata": {},
   "source": [
    "# Load in glioblastoma Features as TPM for IDs"
   ]
  },
  {
   "cell_type": "code",
   "execution_count": 2,
   "metadata": {
    "collapsed": false
   },
   "outputs": [
    {
     "name": "stderr",
     "output_type": "stream",
     "text": [
      "Loading tidyverse: ggplot2\n",
      "Loading tidyverse: tibble\n",
      "Loading tidyverse: tidyr\n",
      "Loading tidyverse: readr\n",
      "Loading tidyverse: purrr\n",
      "Loading tidyverse: dplyr\n",
      "Conflicts with tidy packages ---------------------------------------------------\n",
      "filter(): dplyr, stats\n",
      "lag():    dplyr, stats\n"
     ]
    }
   ],
   "source": [
    "library('tidyverse')\n",
    "library('stringr')"
   ]
  },
  {
   "cell_type": "code",
   "execution_count": 3,
   "metadata": {
    "collapsed": true
   },
   "outputs": [],
   "source": [
    "labels <- read.csv(\"data/glioblastomaLabels.csv\")"
   ]
  },
  {
   "cell_type": "code",
   "execution_count": 4,
   "metadata": {
    "collapsed": false
   },
   "outputs": [],
   "source": [
    "riboDGlio<-labels %>% filter(labels$tr_method == 'RiboMinus')\n",
    "riboDth_ids <- riboDGlio$th_sampleid\n",
    "polyAGlio<-labels %>% filter(labels$tr_method == 'PolyA')\n",
    "polyAth_ids <- polyAGlio$th_sampleid\n"
   ]
  },
  {
   "cell_type": "code",
   "execution_count": 6,
   "metadata": {
    "collapsed": true
   },
   "outputs": [],
   "source": [
    "a <- read.csv('data/glioblastomaExpression.csv')"
   ]
  },
  {
   "cell_type": "code",
   "execution_count": 7,
   "metadata": {
    "collapsed": false
   },
   "outputs": [],
   "source": [
    "glio_th_ids <- tail(colnames(a),-1)"
   ]
  },
  {
   "cell_type": "markdown",
   "metadata": {},
   "source": [
    "Find files for read count"
   ]
  },
  {
   "cell_type": "code",
   "execution_count": 8,
   "metadata": {
    "collapsed": true
   },
   "outputs": [],
   "source": [
    "compendiumTPM <- dir(path = \"/data/archive/downstream\", pattern = 'rsem_genes.results', all.files = TRUE,\n",
    "           full.names = TRUE, recursive = TRUE,\n",
    "           ignore.case = FALSE, include.dirs = TRUE, no.. = TRUE)"
   ]
  },
  {
   "cell_type": "code",
   "execution_count": 9,
   "metadata": {
    "collapsed": false
   },
   "outputs": [],
   "source": [
    "compendiumTPM_ids <- compendiumTPM %>% gsub('/data/archive/downstream/','',.) %>% gsub('/.*','',.)"
   ]
  },
  {
   "cell_type": "code",
   "execution_count": 10,
   "metadata": {
    "collapsed": false
   },
   "outputs": [],
   "source": [
    "readcountIds <- intersect(compendiumTPM_ids,glio_th_ids)"
   ]
  },
  {
   "cell_type": "code",
   "execution_count": 11,
   "metadata": {
    "collapsed": false
   },
   "outputs": [
    {
     "data": {
      "text/html": [
       "67"
      ],
      "text/latex": [
       "67"
      ],
      "text/markdown": [
       "67"
      ],
      "text/plain": [
       "[1] 67"
      ]
     },
     "metadata": {},
     "output_type": "display_data"
    }
   ],
   "source": [
    "length(readcountIds)"
   ]
  },
  {
   "cell_type": "markdown",
   "metadata": {},
   "source": [
    "Create dataset of read count"
   ]
  },
  {
   "cell_type": "code",
   "execution_count": 15,
   "metadata": {
    "collapsed": false,
    "scrolled": true
   },
   "outputs": [
    {
     "name": "stdout",
     "output_type": "stream",
     "text": [
      "   user  system elapsed \n",
      " 50.924   1.108  52.093 \n"
     ]
    }
   ],
   "source": [
    "ptm <- proc.time()\n",
    "locationList <- c()\n",
    "tables<-c()\n",
    "riboDs <- list()\n",
    "polyAs <- list()\n",
    "i <- 1\n",
    "for (id in readcountIds){\n",
    "    curdir <- dir(path = paste0(\"/data/archive/downstream/\",id), pattern = 'rsem_genes.results', all.files = TRUE,\n",
    "           full.names = TRUE, recursive = TRUE,\n",
    "           ignore.case = FALSE, include.dirs = TRUE, no.. = TRUE)\n",
    "    cur<-suppressMessages(read_tsv(curdir[length(curdir)]))\n",
    "    if(id %in% riboDth_ids){\n",
    "        riboDs[[i]] <- cur$expected_count\n",
    "    }\n",
    "    if (id %in% polyAth_ids){\n",
    "        polyAs[[i]] <- cur$expected_count\n",
    "    }\n",
    "    i <- i+1\n",
    "}\n",
    "\n",
    "print(proc.time()-ptm)"
   ]
  },
  {
   "cell_type": "code",
   "execution_count": 16,
   "metadata": {
    "collapsed": false
   },
   "outputs": [],
   "source": [
    "polyAReadCount <- do.call(cbind, polyAs)"
   ]
  },
  {
   "cell_type": "code",
   "execution_count": 18,
   "metadata": {
    "collapsed": false
   },
   "outputs": [
    {
     "name": "stderr",
     "output_type": "stream",
     "text": [
      "Warning message in polyAReadCount$gene_id <- cur$gene_id:\n",
      "“Coercing LHS to a list”"
     ]
    }
   ],
   "source": [
    "polyAReadCount$gene_id <- cur$gene_id"
   ]
  },
  {
   "cell_type": "code",
   "execution_count": null,
   "metadata": {
    "collapsed": true
   },
   "outputs": [],
   "source": [
    "polyAReadCount"
   ]
  },
  {
   "cell_type": "code",
   "execution_count": 4,
   "metadata": {
    "collapsed": false
   },
   "outputs": [
    {
     "name": "stderr",
     "output_type": "stream",
     "text": [
      "Bioconductor version 3.4 (BiocInstaller 1.24.0), ?biocLite for help\n",
      "A new version of Bioconductor is available after installing the most recent\n",
      "  version of R; see http://bioconductor.org/install\n",
      "BioC_mirror: https://bioconductor.org\n",
      "Using Bioconductor 3.4 (BiocInstaller 1.24.0), R 3.3.2 (2016-10-31).\n",
      "Installing package(s) ‘DESeq’\n",
      "also installing the dependencies ‘annotate’, ‘locfit’, ‘genefilter’, ‘geneplotter’\n",
      "\n",
      "Updating HTML index of packages in '.Library'\n",
      "Making 'packages.html' ... done\n",
      "Old packages: 'assertthat', 'backports', 'BH', 'boot', 'broom', 'car', 'caret',\n",
      "  'cluster', 'colorspace', 'crayon', 'curl', 'data.table', 'DBI', 'devtools',\n",
      "  'digest', 'dplyr', 'evaluate', 'forcats', 'foreach', 'forecast', 'foreign',\n",
      "  'ggplot2', 'git2r', 'haven', 'highr', 'hms', 'htmltools', 'httpuv', 'httr',\n",
      "  'IRdisplay', 'iterators', 'jsonlite', 'knitr', 'lattice', 'lazyeval', 'lme4',\n",
      "  'lubridate', 'markdown', 'MASS', 'Matrix', 'memoise', 'mgcv', 'modelr',\n",
      "  'munsell', 'nycflights13', 'openssl', 'openxlsx', 'pbdZMQ', 'pbkrtest',\n",
      "  'plogr', 'psych', 'purrr', 'quantreg', 'R6', 'randomForest', 'Rcpp',\n",
      "  'RcppArmadillo', 'RcppEigen', 'RCurl', 'readr', 'readxl', 'repr', 'reshape2',\n",
      "  'rmarkdown', 'rpart', 'rprojroot', 'RSQLite', 'rstudioapi', 'scales',\n",
      "  'selectr', 'shiny', 'sourcetools', 'SparseM', 'stringi', 'stringr',\n",
      "  'survival', 'tibble', 'tidyr', 'tidyverse', 'timeDate', 'tseries', 'withr',\n",
      "  'XML', 'xml2', 'yaml', 'zoo'\n"
     ]
    }
   ],
   "source": [
    "## try http:// if https:// URLs are not supported\n",
    "source(\"https://bioconductor.org/biocLite.R\")\n",
    "biocLite(\"DESeq\")"
   ]
  },
  {
   "cell_type": "code",
   "execution_count": null,
   "metadata": {
    "collapsed": true
   },
   "outputs": [],
   "source": []
  }
 ],
 "metadata": {
  "kernelspec": {
   "display_name": "R",
   "language": "R",
   "name": "ir"
  },
  "language_info": {
   "codemirror_mode": "r",
   "file_extension": ".r",
   "mimetype": "text/x-r-source",
   "name": "R",
   "pygments_lexer": "r",
   "version": "3.3.2"
  }
 },
 "nbformat": 4,
 "nbformat_minor": 2
}
